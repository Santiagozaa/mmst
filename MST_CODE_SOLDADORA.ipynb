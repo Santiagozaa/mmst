{
  "cells": [
    {
      "cell_type": "markdown",
      "metadata": {
        "id": "view-in-github",
        "colab_type": "text"
      },
      "source": [
        "<a href=\"https://colab.research.google.com/github/Santiagozaa/mmst/blob/main/MST_CODE_SOLDADORA.ipynb\" target=\"_parent\"><img src=\"https://colab.research.google.com/assets/colab-badge.svg\" alt=\"Open In Colab\"/></a>"
      ]
    },
    {
      "cell_type": "code",
      "execution_count": null,
      "metadata": {
        "colab": {
          "base_uri": "https://localhost:8080/",
          "height": 17
        },
        "id": "w8l47x9QIG80",
        "outputId": "aa4baf91-fa3d-44b0-88f6-6d89defebf36"
      },
      "outputs": [
        {
          "output_type": "display_data",
          "data": {
            "text/html": [
              "        <script type=\"text/javascript\">\n",
              "        window.PlotlyConfig = {MathJaxConfig: 'local'};\n",
              "        if (window.MathJax) {MathJax.Hub.Config({SVG: {font: \"STIX-Web\"}});}\n",
              "        if (typeof require !== 'undefined') {\n",
              "        require.undef(\"plotly\");\n",
              "        requirejs.config({\n",
              "            paths: {\n",
              "                'plotly': ['https://cdn.plot.ly/plotly-2.8.3.min']\n",
              "            }\n",
              "        });\n",
              "        require(['plotly'], function(Plotly) {\n",
              "            window._Plotly = Plotly;\n",
              "        });\n",
              "        }\n",
              "        </script>\n",
              "        "
            ]
          },
          "metadata": {}
        }
      ],
      "source": [
        "import pandas as pd\n",
        "import numpy as np\n",
        "from datetime import datetime\n",
        "%matplotlib inline\n",
        "from datetime import datetime\n",
        "from datetime import timedelta\n",
        "import matplotlib.pyplot as plt\n",
        "import plotly.express as px\n",
        "import cufflinks as cf\n",
        "import seaborn as sns\n",
        "cf.go_offline()\n",
        "cf.set_config_file(offline=False, world_readable=True)\n",
        "import datetime\n",
        "from datetime import datetime\n",
        "from datetime import date\n",
        "from datetime import datetime, timedelta"
      ]
    },
    {
      "cell_type": "code",
      "execution_count": null,
      "metadata": {
        "id": "gU6RSsIxILVF"
      },
      "outputs": [],
      "source": [
        "#Lee el archivo csv Ventex072020 - Datos crudosdatos crudos\n",
        "datos_crudos = pd.read_csv(\"./sample_data/Ventex072020 - Datos crudos.csv\", delimiter = ',')"
      ]
    },
    {
      "cell_type": "code",
      "execution_count": null,
      "metadata": {
        "id": "xNFy0iBJkmJ7"
      },
      "outputs": [],
      "source": [
        "#Al archivo csv Ventex072020 - Datos crudos lo convierte en un DataFrame\n",
        "df = pd.DataFrame(datos_crudos)\n",
        "#df"
      ]
    },
    {
      "cell_type": "code",
      "execution_count": null,
      "metadata": {
        "colab": {
          "base_uri": "https://localhost:8080/",
          "height": 53
        },
        "id": "-plg1uKzjApo",
        "outputId": "83477931-473e-4097-8ea8-6c79f52efcb9"
      },
      "outputs": [
        {
          "output_type": "execute_result",
          "data": {
            "text/plain": [
              "'{\"PE\"=>128, \"UID\"=>\"WISE-4051_00D0C9E388AF\", \"MAC\"=>\"00-D0-C9-E3-88-AF\", \"TIM\"=>\"2022-11-14T06:52:27+08:00\", \"Record\"=>[[0, 0, 2, 12981], [0, 1, 2, 65477], [0, 2, 2, 0], [0, 3, 2, 0], [0, 4, 2, 0], [0, 5, 2, 0], [0, 6, 2, 0], [0, 7, 2, 0]]}'"
            ],
            "application/vnd.google.colaboratory.intrinsic+json": {
              "type": "string"
            }
          },
          "metadata": {},
          "execution_count": 720
        }
      ],
      "source": [
        "#Agarra la columna que nos interesa\n",
        "\"\"\"{\"PE\"=>128, \"UID\"=>\"WISE-4051_00D0C9E388AF\", \"MAC\"=>\"00-D0-C9-E3-88-AF\", \"TIM\"=>\"2022-11-14T06:52:27+08:00\", \"Record\"=>[[0, 0, 2, 12981], [0, 1, 2, 65477], [0, 2, 2, 0], [0, 3, 2, 0], [0, 4, 2, 0], [0, 5, 2, 0], [0, 6, 2, 0], [0, 7, 2, 0]]}\"\"\""
      ]
    },
    {
      "cell_type": "code",
      "execution_count": null,
      "metadata": {
        "id": "OmkbGt3qk8AN"
      },
      "outputs": [],
      "source": [
        "#Convierte la columna que nos interesa a una lista                  [0, 0 numero de contador, 2 el modo que esta trabajando el IoT, 12981 contador], [0 entrada PBZ1, 1 salida PBZ1]                                        //\n",
        "a = df[[\"\"\"{\"PE\"=>128, \"UID\"=>\"WISE-4051_00D0C9E388AF\", \"MAC\"=>\"00-D0-C9-E3-88-AF\", \"TIM\"=>\"2022-11-14T06:52:27+08:00\", \"Record\"=>[[0, 0, 2, 12981], [0, 1, 2, 65477], [0, 2, 2, 0], [0, 3, 2, 0], [0, 4, 2, 0], [0, 5, 2, 0], [0, 6, 2, 0], [0, 7, 2, 0]]}\"\"\"]]"
      ]
    },
    {
      "cell_type": "code",
      "execution_count": null,
      "metadata": {
        "id": "8C10F7KGqPqD"
      },
      "outputs": [],
      "source": [
        "#A la columna que nos interesa les pone indice a cada columna \n",
        "de = a[\"\"\"{\"PE\"=>128, \"UID\"=>\"WISE-4051_00D0C9E388AF\", \"MAC\"=>\"00-D0-C9-E3-88-AF\", \"TIM\"=>\"2022-11-14T06:52:27+08:00\", \"Record\"=>[[0, 0, 2, 12981], [0, 1, 2, 65477], [0, 2, 2, 0], [0, 3, 2, 0], [0, 4, 2, 0], [0, 5, 2, 0], [0, 6, 2, 0], [0, 7, 2, 0]]}\"\"\"].str.split(expand=True)\n",
        "#de.head(20)\n"
      ]
    },
    {
      "cell_type": "code",
      "execution_count": null,
      "metadata": {
        "id": "1Q56_Zhw1OAf"
      },
      "outputs": [],
      "source": [
        "#elimina la columna 0\n",
        "col1 = de.drop([0], axis=1)"
      ]
    },
    {
      "cell_type": "code",
      "execution_count": null,
      "metadata": {
        "id": "6cSNQp7PuWvA"
      },
      "outputs": [],
      "source": [
        "#elimina la columna 1\n",
        "col2 = col1.drop([1], axis=1)"
      ]
    },
    {
      "cell_type": "code",
      "execution_count": null,
      "metadata": {
        "id": "C2R-etW_2V3D"
      },
      "outputs": [],
      "source": [
        "#elimina la columna 2\n",
        "col3 = col2.drop([2], axis=1)"
      ]
    },
    {
      "cell_type": "code",
      "execution_count": null,
      "metadata": {
        "id": "auPG413AyxlS"
      },
      "outputs": [],
      "source": [
        "#Saca todo lo que no sirve remplazandolo por un vacio\n",
        "\n",
        "'''print(\"SOLDADORA ---- 4 al 7\")\n",
        "print(\"PBZ1 --------- 8 al 11\")\n",
        "print(\"PBZ2 --------- 11 al 14\")'''\n",
        "da = col3.applymap(lambda x: x.replace('[',''))\n",
        "de = da.applymap(lambda x: x.replace(']',''))\n",
        "di = de.applymap(lambda x: x.replace('\"',''))\n",
        "do = di.applymap(lambda x: x.replace(',',''))\n",
        "du = do.applymap(lambda x: x.replace('+',''))\n",
        "a = du.applymap(lambda x: x.replace('TIM',''))\n",
        "b = a.applymap(lambda x: x.replace('=',''))\n",
        "c = b.applymap(lambda x: x.replace('>',''))\n",
        "d = c.applymap(lambda x: x.replace('-',''))\n",
        "e = d.applymap(lambda x: x.replace('Record',''))\n",
        "f = e.applymap(lambda x: x.replace('08:00',''))\n",
        "g = f.applymap(lambda x: x.replace('T',''))\n",
        "h = g.applymap(lambda x: x.replace(':',''))\n",
        "i = h.applymap(lambda x: x.replace('}',''))\n",
        "\n",
        "#i"
      ]
    },
    {
      "cell_type": "code",
      "execution_count": null,
      "metadata": {
        "colab": {
          "base_uri": "https://localhost:8080/"
        },
        "id": "yq5JA_i1F03K",
        "outputId": "fc0e36e6-4a8d-48fc-8e82-3f0393a6100a"
      },
      "outputs": [
        {
          "output_type": "execute_result",
          "data": {
            "text/plain": [
              "(321, 33)"
            ]
          },
          "metadata": {},
          "execution_count": 727
        }
      ],
      "source": [
        "#Filas y columas \n",
        "i.shape"
      ]
    },
    {
      "cell_type": "code",
      "execution_count": null,
      "metadata": {
        "id": "apRK9-qRFEek"
      },
      "outputs": [],
      "source": [
        "#cambiarle el nombre a las columnas\n",
        "tabla = i.set_axis(['Fecha_Hora', 'S1', 'S2', 'S3','Piezas_Soldadora', 'PBZ1', 'PBZ1.1', 'PBZ1.1.1','Piezas_PBZ1', 'PBZ2', 'PBZ2', 'PBZ2','Piezas_PBZ2', '14', '15', '16','17', '18', '19', '20','21', '22', '23', '24','25', '26', '27', '28','29', '30', '31', '32','33'], axis=1)\n",
        "#tabla"
      ]
    },
    {
      "cell_type": "code",
      "execution_count": null,
      "metadata": {
        "id": "s5GJ5qy5Xho3"
      },
      "outputs": [],
      "source": [
        "#Convierte Fecha_hora en hora \n",
        "Fecha_y_Hora = pd.to_datetime(tabla[\"Fecha_Hora\"])\n",
        "#Fecha_y_Hora "
      ]
    },
    {
      "cell_type": "code",
      "source": [
        "#Fecha_y_Hora"
      ],
      "metadata": {
        "id": "6pbZK0LDhKoK"
      },
      "execution_count": null,
      "outputs": []
    },
    {
      "cell_type": "code",
      "execution_count": null,
      "metadata": {
        "id": "rfF3yuXvZ8Ar",
        "colab": {
          "base_uri": "https://localhost:8080/",
          "height": 141
        },
        "outputId": "3116480d-1604-45d9-ec93-f2d659f37a83"
      },
      "outputs": [
        {
          "output_type": "execute_result",
          "data": {
            "text/plain": [
              "       Fecha_Hora S1 S2 S3 Piezas_Soldadora PBZ1 PBZ1.1 PBZ1.1.1 Piezas_PBZ1  \\\n",
              "0  20221114065727  0  0  2            12981    0      1        2       65477   \n",
              "1  20221114070227  0  0  2            12981    0      1        2       65477   \n",
              "\n",
              "  PBZ2  ... 25 26 27 28 29 30 31 32 33        Fecha_y_Hora  \n",
              "0    0  ...  0  0  6  2  0  0  7  2  0 2022-11-14 06:57:27  \n",
              "1    0  ...  0  0  6  2  0  0  7  2  0 2022-11-14 07:02:27  \n",
              "\n",
              "[2 rows x 34 columns]"
            ],
            "text/html": [
              "\n",
              "  <div id=\"df-c6d6fe00-0ef9-48ab-a156-f53cbd6de416\">\n",
              "    <div class=\"colab-df-container\">\n",
              "      <div>\n",
              "<style scoped>\n",
              "    .dataframe tbody tr th:only-of-type {\n",
              "        vertical-align: middle;\n",
              "    }\n",
              "\n",
              "    .dataframe tbody tr th {\n",
              "        vertical-align: top;\n",
              "    }\n",
              "\n",
              "    .dataframe thead th {\n",
              "        text-align: right;\n",
              "    }\n",
              "</style>\n",
              "<table border=\"1\" class=\"dataframe\">\n",
              "  <thead>\n",
              "    <tr style=\"text-align: right;\">\n",
              "      <th></th>\n",
              "      <th>Fecha_Hora</th>\n",
              "      <th>S1</th>\n",
              "      <th>S2</th>\n",
              "      <th>S3</th>\n",
              "      <th>Piezas_Soldadora</th>\n",
              "      <th>PBZ1</th>\n",
              "      <th>PBZ1.1</th>\n",
              "      <th>PBZ1.1.1</th>\n",
              "      <th>Piezas_PBZ1</th>\n",
              "      <th>PBZ2</th>\n",
              "      <th>...</th>\n",
              "      <th>25</th>\n",
              "      <th>26</th>\n",
              "      <th>27</th>\n",
              "      <th>28</th>\n",
              "      <th>29</th>\n",
              "      <th>30</th>\n",
              "      <th>31</th>\n",
              "      <th>32</th>\n",
              "      <th>33</th>\n",
              "      <th>Fecha_y_Hora</th>\n",
              "    </tr>\n",
              "  </thead>\n",
              "  <tbody>\n",
              "    <tr>\n",
              "      <th>0</th>\n",
              "      <td>20221114065727</td>\n",
              "      <td>0</td>\n",
              "      <td>0</td>\n",
              "      <td>2</td>\n",
              "      <td>12981</td>\n",
              "      <td>0</td>\n",
              "      <td>1</td>\n",
              "      <td>2</td>\n",
              "      <td>65477</td>\n",
              "      <td>0</td>\n",
              "      <td>...</td>\n",
              "      <td>0</td>\n",
              "      <td>0</td>\n",
              "      <td>6</td>\n",
              "      <td>2</td>\n",
              "      <td>0</td>\n",
              "      <td>0</td>\n",
              "      <td>7</td>\n",
              "      <td>2</td>\n",
              "      <td>0</td>\n",
              "      <td>2022-11-14 06:57:27</td>\n",
              "    </tr>\n",
              "    <tr>\n",
              "      <th>1</th>\n",
              "      <td>20221114070227</td>\n",
              "      <td>0</td>\n",
              "      <td>0</td>\n",
              "      <td>2</td>\n",
              "      <td>12981</td>\n",
              "      <td>0</td>\n",
              "      <td>1</td>\n",
              "      <td>2</td>\n",
              "      <td>65477</td>\n",
              "      <td>0</td>\n",
              "      <td>...</td>\n",
              "      <td>0</td>\n",
              "      <td>0</td>\n",
              "      <td>6</td>\n",
              "      <td>2</td>\n",
              "      <td>0</td>\n",
              "      <td>0</td>\n",
              "      <td>7</td>\n",
              "      <td>2</td>\n",
              "      <td>0</td>\n",
              "      <td>2022-11-14 07:02:27</td>\n",
              "    </tr>\n",
              "  </tbody>\n",
              "</table>\n",
              "<p>2 rows × 34 columns</p>\n",
              "</div>\n",
              "      <button class=\"colab-df-convert\" onclick=\"convertToInteractive('df-c6d6fe00-0ef9-48ab-a156-f53cbd6de416')\"\n",
              "              title=\"Convert this dataframe to an interactive table.\"\n",
              "              style=\"display:none;\">\n",
              "        \n",
              "  <svg xmlns=\"http://www.w3.org/2000/svg\" height=\"24px\"viewBox=\"0 0 24 24\"\n",
              "       width=\"24px\">\n",
              "    <path d=\"M0 0h24v24H0V0z\" fill=\"none\"/>\n",
              "    <path d=\"M18.56 5.44l.94 2.06.94-2.06 2.06-.94-2.06-.94-.94-2.06-.94 2.06-2.06.94zm-11 1L8.5 8.5l.94-2.06 2.06-.94-2.06-.94L8.5 2.5l-.94 2.06-2.06.94zm10 10l.94 2.06.94-2.06 2.06-.94-2.06-.94-.94-2.06-.94 2.06-2.06.94z\"/><path d=\"M17.41 7.96l-1.37-1.37c-.4-.4-.92-.59-1.43-.59-.52 0-1.04.2-1.43.59L10.3 9.45l-7.72 7.72c-.78.78-.78 2.05 0 2.83L4 21.41c.39.39.9.59 1.41.59.51 0 1.02-.2 1.41-.59l7.78-7.78 2.81-2.81c.8-.78.8-2.07 0-2.86zM5.41 20L4 18.59l7.72-7.72 1.47 1.35L5.41 20z\"/>\n",
              "  </svg>\n",
              "      </button>\n",
              "      \n",
              "  <style>\n",
              "    .colab-df-container {\n",
              "      display:flex;\n",
              "      flex-wrap:wrap;\n",
              "      gap: 12px;\n",
              "    }\n",
              "\n",
              "    .colab-df-convert {\n",
              "      background-color: #E8F0FE;\n",
              "      border: none;\n",
              "      border-radius: 50%;\n",
              "      cursor: pointer;\n",
              "      display: none;\n",
              "      fill: #1967D2;\n",
              "      height: 32px;\n",
              "      padding: 0 0 0 0;\n",
              "      width: 32px;\n",
              "    }\n",
              "\n",
              "    .colab-df-convert:hover {\n",
              "      background-color: #E2EBFA;\n",
              "      box-shadow: 0px 1px 2px rgba(60, 64, 67, 0.3), 0px 1px 3px 1px rgba(60, 64, 67, 0.15);\n",
              "      fill: #174EA6;\n",
              "    }\n",
              "\n",
              "    [theme=dark] .colab-df-convert {\n",
              "      background-color: #3B4455;\n",
              "      fill: #D2E3FC;\n",
              "    }\n",
              "\n",
              "    [theme=dark] .colab-df-convert:hover {\n",
              "      background-color: #434B5C;\n",
              "      box-shadow: 0px 1px 3px 1px rgba(0, 0, 0, 0.15);\n",
              "      filter: drop-shadow(0px 1px 2px rgba(0, 0, 0, 0.3));\n",
              "      fill: #FFFFFF;\n",
              "    }\n",
              "  </style>\n",
              "\n",
              "      <script>\n",
              "        const buttonEl =\n",
              "          document.querySelector('#df-c6d6fe00-0ef9-48ab-a156-f53cbd6de416 button.colab-df-convert');\n",
              "        buttonEl.style.display =\n",
              "          google.colab.kernel.accessAllowed ? 'block' : 'none';\n",
              "\n",
              "        async function convertToInteractive(key) {\n",
              "          const element = document.querySelector('#df-c6d6fe00-0ef9-48ab-a156-f53cbd6de416');\n",
              "          const dataTable =\n",
              "            await google.colab.kernel.invokeFunction('convertToInteractive',\n",
              "                                                     [key], {});\n",
              "          if (!dataTable) return;\n",
              "\n",
              "          const docLinkHtml = 'Like what you see? Visit the ' +\n",
              "            '<a target=\"_blank\" href=https://colab.research.google.com/notebooks/data_table.ipynb>data table notebook</a>'\n",
              "            + ' to learn more about interactive tables.';\n",
              "          element.innerHTML = '';\n",
              "          dataTable['output_type'] = 'display_data';\n",
              "          await google.colab.output.renderOutput(dataTable, element);\n",
              "          const docLink = document.createElement('div');\n",
              "          docLink.innerHTML = docLinkHtml;\n",
              "          element.appendChild(docLink);\n",
              "        }\n",
              "      </script>\n",
              "    </div>\n",
              "  </div>\n",
              "  "
            ]
          },
          "metadata": {},
          "execution_count": 731
        }
      ],
      "source": [
        "#Agrega a la tabla Fecha_y_Hora \n",
        "tabla_nueva = tabla.assign(Fecha_y_Hora=pd.to_datetime(tabla[\"Fecha_Hora\"])) \n",
        "tabla_nueva.head(2)"
      ]
    },
    {
      "cell_type": "code",
      "execution_count": null,
      "metadata": {
        "id": "N4FoeGMyk3XQ"
      },
      "outputs": [],
      "source": [
        "#Elimina Fecha_Hora de la tabla\n",
        "tabla_nueva2 = tabla_nueva.drop(['S1','S2','S3','Fecha_Hora', 'PBZ1','PBZ1.1','PBZ1.1.1', 'Piezas_PBZ1','PBZ2','Piezas_PBZ2','14','15','16','17','18','19','20','21','22','23','24','25','26','27','28','29','30','31','32','33'], axis=1)\n",
        "#tabla_nueva2.head(1)"
      ]
    },
    {
      "cell_type": "code",
      "execution_count": null,
      "metadata": {
        "id": "ydPghbyF1IUO"
      },
      "outputs": [],
      "source": [
        "#Recorre sobre Fecha_y_Hora y resta el siguiente menos el anterior\n",
        "for i in range(len(tabla_nueva2['Fecha_y_Hora'])-1):\n",
        "  diferencia = tabla_nueva2['Fecha_y_Hora'][i+1] - tabla_nueva2['Fecha_y_Hora'][i]\n",
        " # print(diferencia)"
      ]
    },
    {
      "cell_type": "code",
      "execution_count": null,
      "metadata": {
        "id": "C8uCGFE-1R2L"
      },
      "outputs": [],
      "source": [
        "#Agrega al DataFrame de tabla el DataFrame de diferencia de Fecha y Hora, agrega una columna\n",
        "tabla_nueva2['Diferencia_F_H'] = diferencia\n",
        "#tabla_nueva2"
      ]
    },
    {
      "cell_type": "code",
      "execution_count": null,
      "metadata": {
        "id": "lPT-H7OeBrPK"
      },
      "outputs": [],
      "source": [
        "#Convierte Piezas_Soldadora, S1, S2, S3 y Piezas_PBZ1 a int\n",
        "Piezas_Soldadora = tabla_nueva['Piezas_Soldadora'].astype(int)  \n",
        "S1 = tabla_nueva['S1'].astype(int)\n",
        "S2 = tabla_nueva['S2'].astype(int)\n",
        "S3 = tabla_nueva['S3'].astype(int) \n",
        "#Piezas_PBZ1 = tabla_nueva['Piezas_PBZ1'].astype(int) "
      ]
    },
    {
      "cell_type": "code",
      "execution_count": null,
      "metadata": {
        "id": "XESl-TajjnlG",
        "colab": {
          "base_uri": "https://localhost:8080/",
          "height": 112
        },
        "outputId": "c52d9832-68f6-48ca-ca95-c7493e4a99e9"
      },
      "outputs": [
        {
          "output_type": "execute_result",
          "data": {
            "text/plain": [
              "  Piezas_Soldadora        Fecha_y_Hora  Diferencia_F_H\n",
              "5            12987 2022-11-14 08:17:27 0 days 00:05:00\n",
              "6            12989 2022-11-14 08:22:27 0 days 00:05:00"
            ],
            "text/html": [
              "\n",
              "  <div id=\"df-e4d8238a-173d-4513-aca2-864a53162bcf\">\n",
              "    <div class=\"colab-df-container\">\n",
              "      <div>\n",
              "<style scoped>\n",
              "    .dataframe tbody tr th:only-of-type {\n",
              "        vertical-align: middle;\n",
              "    }\n",
              "\n",
              "    .dataframe tbody tr th {\n",
              "        vertical-align: top;\n",
              "    }\n",
              "\n",
              "    .dataframe thead th {\n",
              "        text-align: right;\n",
              "    }\n",
              "</style>\n",
              "<table border=\"1\" class=\"dataframe\">\n",
              "  <thead>\n",
              "    <tr style=\"text-align: right;\">\n",
              "      <th></th>\n",
              "      <th>Piezas_Soldadora</th>\n",
              "      <th>Fecha_y_Hora</th>\n",
              "      <th>Diferencia_F_H</th>\n",
              "    </tr>\n",
              "  </thead>\n",
              "  <tbody>\n",
              "    <tr>\n",
              "      <th>5</th>\n",
              "      <td>12987</td>\n",
              "      <td>2022-11-14 08:17:27</td>\n",
              "      <td>0 days 00:05:00</td>\n",
              "    </tr>\n",
              "    <tr>\n",
              "      <th>6</th>\n",
              "      <td>12989</td>\n",
              "      <td>2022-11-14 08:22:27</td>\n",
              "      <td>0 days 00:05:00</td>\n",
              "    </tr>\n",
              "  </tbody>\n",
              "</table>\n",
              "</div>\n",
              "      <button class=\"colab-df-convert\" onclick=\"convertToInteractive('df-e4d8238a-173d-4513-aca2-864a53162bcf')\"\n",
              "              title=\"Convert this dataframe to an interactive table.\"\n",
              "              style=\"display:none;\">\n",
              "        \n",
              "  <svg xmlns=\"http://www.w3.org/2000/svg\" height=\"24px\"viewBox=\"0 0 24 24\"\n",
              "       width=\"24px\">\n",
              "    <path d=\"M0 0h24v24H0V0z\" fill=\"none\"/>\n",
              "    <path d=\"M18.56 5.44l.94 2.06.94-2.06 2.06-.94-2.06-.94-.94-2.06-.94 2.06-2.06.94zm-11 1L8.5 8.5l.94-2.06 2.06-.94-2.06-.94L8.5 2.5l-.94 2.06-2.06.94zm10 10l.94 2.06.94-2.06 2.06-.94-2.06-.94-.94-2.06-.94 2.06-2.06.94z\"/><path d=\"M17.41 7.96l-1.37-1.37c-.4-.4-.92-.59-1.43-.59-.52 0-1.04.2-1.43.59L10.3 9.45l-7.72 7.72c-.78.78-.78 2.05 0 2.83L4 21.41c.39.39.9.59 1.41.59.51 0 1.02-.2 1.41-.59l7.78-7.78 2.81-2.81c.8-.78.8-2.07 0-2.86zM5.41 20L4 18.59l7.72-7.72 1.47 1.35L5.41 20z\"/>\n",
              "  </svg>\n",
              "      </button>\n",
              "      \n",
              "  <style>\n",
              "    .colab-df-container {\n",
              "      display:flex;\n",
              "      flex-wrap:wrap;\n",
              "      gap: 12px;\n",
              "    }\n",
              "\n",
              "    .colab-df-convert {\n",
              "      background-color: #E8F0FE;\n",
              "      border: none;\n",
              "      border-radius: 50%;\n",
              "      cursor: pointer;\n",
              "      display: none;\n",
              "      fill: #1967D2;\n",
              "      height: 32px;\n",
              "      padding: 0 0 0 0;\n",
              "      width: 32px;\n",
              "    }\n",
              "\n",
              "    .colab-df-convert:hover {\n",
              "      background-color: #E2EBFA;\n",
              "      box-shadow: 0px 1px 2px rgba(60, 64, 67, 0.3), 0px 1px 3px 1px rgba(60, 64, 67, 0.15);\n",
              "      fill: #174EA6;\n",
              "    }\n",
              "\n",
              "    [theme=dark] .colab-df-convert {\n",
              "      background-color: #3B4455;\n",
              "      fill: #D2E3FC;\n",
              "    }\n",
              "\n",
              "    [theme=dark] .colab-df-convert:hover {\n",
              "      background-color: #434B5C;\n",
              "      box-shadow: 0px 1px 3px 1px rgba(0, 0, 0, 0.15);\n",
              "      filter: drop-shadow(0px 1px 2px rgba(0, 0, 0, 0.3));\n",
              "      fill: #FFFFFF;\n",
              "    }\n",
              "  </style>\n",
              "\n",
              "      <script>\n",
              "        const buttonEl =\n",
              "          document.querySelector('#df-e4d8238a-173d-4513-aca2-864a53162bcf button.colab-df-convert');\n",
              "        buttonEl.style.display =\n",
              "          google.colab.kernel.accessAllowed ? 'block' : 'none';\n",
              "\n",
              "        async function convertToInteractive(key) {\n",
              "          const element = document.querySelector('#df-e4d8238a-173d-4513-aca2-864a53162bcf');\n",
              "          const dataTable =\n",
              "            await google.colab.kernel.invokeFunction('convertToInteractive',\n",
              "                                                     [key], {});\n",
              "          if (!dataTable) return;\n",
              "\n",
              "          const docLinkHtml = 'Like what you see? Visit the ' +\n",
              "            '<a target=\"_blank\" href=https://colab.research.google.com/notebooks/data_table.ipynb>data table notebook</a>'\n",
              "            + ' to learn more about interactive tables.';\n",
              "          element.innerHTML = '';\n",
              "          dataTable['output_type'] = 'display_data';\n",
              "          await google.colab.output.renderOutput(dataTable, element);\n",
              "          const docLink = document.createElement('div');\n",
              "          docLink.innerHTML = docLinkHtml;\n",
              "          element.appendChild(docLink);\n",
              "        }\n",
              "      </script>\n",
              "    </div>\n",
              "  </div>\n",
              "  "
            ]
          },
          "metadata": {},
          "execution_count": 736
        }
      ],
      "source": [
        "# SOLDADORA \n",
        "# Seleccionar entre dos fechas del índice desde las 8 am hasta las 17 pm el dia 2022-11-14 \n",
        "TURNO1 = tabla_nueva2[(tabla_nueva['Fecha_y_Hora'] >= '2022-11-14 08:00:00') & (tabla_nueva2['Fecha_y_Hora'] <= '2022-11-14 17:00:00')]\n",
        "TURNO1.head(2)"
      ]
    },
    {
      "cell_type": "code",
      "source": [
        "#CANTIDAD DE PIEZAS SOLDADORA TURNO 1 (EL ACTUAL MENOS EL ANTERIOR)\n",
        "\n",
        "piezas_soldora_T1 = TURNO1[\"Piezas_Soldadora\"].astype(int)\n",
        "TURNO1['Contador_Piezas_Soldadora_T1']=piezas_soldora_T1.diff(1)\n",
        "print(\"La suma:\",TURNO1.loc[TURNO1[\"Contador_Piezas_Soldadora_T1\"]>0,\"Contador_Piezas_Soldadora_T1\"].sum())\n",
        "TURNO1.head(1)"
      ],
      "metadata": {
        "colab": {
          "base_uri": "https://localhost:8080/",
          "height": 98
        },
        "id": "DLYyxM9AM1im",
        "outputId": "bf1c583f-bb58-4b14-916c-eedfa9212405"
      },
      "execution_count": null,
      "outputs": [
        {
          "output_type": "stream",
          "name": "stdout",
          "text": [
            "La suma: 131.0\n"
          ]
        },
        {
          "output_type": "execute_result",
          "data": {
            "text/plain": [
              "  Piezas_Soldadora        Fecha_y_Hora  Diferencia_F_H  \\\n",
              "5            12987 2022-11-14 08:17:27 0 days 00:05:00   \n",
              "\n",
              "   Contador_Piezas_Soldadora_T1  \n",
              "5                           NaN  "
            ],
            "text/html": [
              "\n",
              "  <div id=\"df-6aea4ee7-ebd3-4e09-99df-cec39ee3cc32\">\n",
              "    <div class=\"colab-df-container\">\n",
              "      <div>\n",
              "<style scoped>\n",
              "    .dataframe tbody tr th:only-of-type {\n",
              "        vertical-align: middle;\n",
              "    }\n",
              "\n",
              "    .dataframe tbody tr th {\n",
              "        vertical-align: top;\n",
              "    }\n",
              "\n",
              "    .dataframe thead th {\n",
              "        text-align: right;\n",
              "    }\n",
              "</style>\n",
              "<table border=\"1\" class=\"dataframe\">\n",
              "  <thead>\n",
              "    <tr style=\"text-align: right;\">\n",
              "      <th></th>\n",
              "      <th>Piezas_Soldadora</th>\n",
              "      <th>Fecha_y_Hora</th>\n",
              "      <th>Diferencia_F_H</th>\n",
              "      <th>Contador_Piezas_Soldadora_T1</th>\n",
              "    </tr>\n",
              "  </thead>\n",
              "  <tbody>\n",
              "    <tr>\n",
              "      <th>5</th>\n",
              "      <td>12987</td>\n",
              "      <td>2022-11-14 08:17:27</td>\n",
              "      <td>0 days 00:05:00</td>\n",
              "      <td>NaN</td>\n",
              "    </tr>\n",
              "  </tbody>\n",
              "</table>\n",
              "</div>\n",
              "      <button class=\"colab-df-convert\" onclick=\"convertToInteractive('df-6aea4ee7-ebd3-4e09-99df-cec39ee3cc32')\"\n",
              "              title=\"Convert this dataframe to an interactive table.\"\n",
              "              style=\"display:none;\">\n",
              "        \n",
              "  <svg xmlns=\"http://www.w3.org/2000/svg\" height=\"24px\"viewBox=\"0 0 24 24\"\n",
              "       width=\"24px\">\n",
              "    <path d=\"M0 0h24v24H0V0z\" fill=\"none\"/>\n",
              "    <path d=\"M18.56 5.44l.94 2.06.94-2.06 2.06-.94-2.06-.94-.94-2.06-.94 2.06-2.06.94zm-11 1L8.5 8.5l.94-2.06 2.06-.94-2.06-.94L8.5 2.5l-.94 2.06-2.06.94zm10 10l.94 2.06.94-2.06 2.06-.94-2.06-.94-.94-2.06-.94 2.06-2.06.94z\"/><path d=\"M17.41 7.96l-1.37-1.37c-.4-.4-.92-.59-1.43-.59-.52 0-1.04.2-1.43.59L10.3 9.45l-7.72 7.72c-.78.78-.78 2.05 0 2.83L4 21.41c.39.39.9.59 1.41.59.51 0 1.02-.2 1.41-.59l7.78-7.78 2.81-2.81c.8-.78.8-2.07 0-2.86zM5.41 20L4 18.59l7.72-7.72 1.47 1.35L5.41 20z\"/>\n",
              "  </svg>\n",
              "      </button>\n",
              "      \n",
              "  <style>\n",
              "    .colab-df-container {\n",
              "      display:flex;\n",
              "      flex-wrap:wrap;\n",
              "      gap: 12px;\n",
              "    }\n",
              "\n",
              "    .colab-df-convert {\n",
              "      background-color: #E8F0FE;\n",
              "      border: none;\n",
              "      border-radius: 50%;\n",
              "      cursor: pointer;\n",
              "      display: none;\n",
              "      fill: #1967D2;\n",
              "      height: 32px;\n",
              "      padding: 0 0 0 0;\n",
              "      width: 32px;\n",
              "    }\n",
              "\n",
              "    .colab-df-convert:hover {\n",
              "      background-color: #E2EBFA;\n",
              "      box-shadow: 0px 1px 2px rgba(60, 64, 67, 0.3), 0px 1px 3px 1px rgba(60, 64, 67, 0.15);\n",
              "      fill: #174EA6;\n",
              "    }\n",
              "\n",
              "    [theme=dark] .colab-df-convert {\n",
              "      background-color: #3B4455;\n",
              "      fill: #D2E3FC;\n",
              "    }\n",
              "\n",
              "    [theme=dark] .colab-df-convert:hover {\n",
              "      background-color: #434B5C;\n",
              "      box-shadow: 0px 1px 3px 1px rgba(0, 0, 0, 0.15);\n",
              "      filter: drop-shadow(0px 1px 2px rgba(0, 0, 0, 0.3));\n",
              "      fill: #FFFFFF;\n",
              "    }\n",
              "  </style>\n",
              "\n",
              "      <script>\n",
              "        const buttonEl =\n",
              "          document.querySelector('#df-6aea4ee7-ebd3-4e09-99df-cec39ee3cc32 button.colab-df-convert');\n",
              "        buttonEl.style.display =\n",
              "          google.colab.kernel.accessAllowed ? 'block' : 'none';\n",
              "\n",
              "        async function convertToInteractive(key) {\n",
              "          const element = document.querySelector('#df-6aea4ee7-ebd3-4e09-99df-cec39ee3cc32');\n",
              "          const dataTable =\n",
              "            await google.colab.kernel.invokeFunction('convertToInteractive',\n",
              "                                                     [key], {});\n",
              "          if (!dataTable) return;\n",
              "\n",
              "          const docLinkHtml = 'Like what you see? Visit the ' +\n",
              "            '<a target=\"_blank\" href=https://colab.research.google.com/notebooks/data_table.ipynb>data table notebook</a>'\n",
              "            + ' to learn more about interactive tables.';\n",
              "          element.innerHTML = '';\n",
              "          dataTable['output_type'] = 'display_data';\n",
              "          await google.colab.output.renderOutput(dataTable, element);\n",
              "          const docLink = document.createElement('div');\n",
              "          docLink.innerHTML = docLinkHtml;\n",
              "          element.appendChild(docLink);\n",
              "        }\n",
              "      </script>\n",
              "    </div>\n",
              "  </div>\n",
              "  "
            ]
          },
          "metadata": {},
          "execution_count": 737
        }
      ]
    },
    {
      "cell_type": "code",
      "source": [
        "#Remplazar los NaN por ceros SOLDADORA TURNO 1\n",
        "TURNO1['Contador_Piezas_Soldadora_T1'] = TURNO1['Contador_Piezas_Soldadora_T1'].replace(np.nan, 0)\n",
        "#TURNO1.head(1)"
      ],
      "metadata": {
        "id": "fJzvMT_LNbhs"
      },
      "execution_count": null,
      "outputs": []
    },
    {
      "cell_type": "code",
      "source": [
        "#TIEMPO CALENDARIO\n",
        "\n",
        "# Tiempo calendario = hora actual - inicio de turno (8hs) / ultimo dato ejem: 15:10:00 - 08:00:00 \n",
        "CALENDARIO = TURNO1[['Fecha_y_Hora', 'Contador_Piezas_Soldadora_T1']]\n",
        "CALENDARIOt1 = pd.DataFrame(CALENDARIO)\n",
        "\n",
        "# Obtener la última fila con el último valor mayor a cero\n",
        "last_positive_row = CALENDARIOt1.loc[CALENDARIOt1['Contador_Piezas_Soldadora_T1'].gt(0)].tail(1)\n",
        "\n",
        "fecha_actual = last_positive_row\n",
        "fecha_actual[['Fecha_y_Hora']]\n",
        "\n",
        "# Definir las horas a restar\n",
        "hora_inicio_turno1 = datetime.strptime('08:00', '%H:%M')\n",
        "hora_2 = fecha_actual[['Fecha_y_Hora']]\n",
        "\n",
        "tiempo = hora_2 - hora_inicio_turno1\n",
        "tiempo"
      ],
      "metadata": {
        "colab": {
          "base_uri": "https://localhost:8080/",
          "height": 81
        },
        "id": "g6APW08_NTBX",
        "outputId": "ac741c4e-73ab-46bb-8c40-22b18acd37f6"
      },
      "execution_count": null,
      "outputs": [
        {
          "output_type": "execute_result",
          "data": {
            "text/plain": [
              "          Fecha_y_Hora\n",
              "97 44877 days 08:07:31"
            ],
            "text/html": [
              "\n",
              "  <div id=\"df-09fbdf7b-3891-4169-852f-2d8e8f99bc85\">\n",
              "    <div class=\"colab-df-container\">\n",
              "      <div>\n",
              "<style scoped>\n",
              "    .dataframe tbody tr th:only-of-type {\n",
              "        vertical-align: middle;\n",
              "    }\n",
              "\n",
              "    .dataframe tbody tr th {\n",
              "        vertical-align: top;\n",
              "    }\n",
              "\n",
              "    .dataframe thead th {\n",
              "        text-align: right;\n",
              "    }\n",
              "</style>\n",
              "<table border=\"1\" class=\"dataframe\">\n",
              "  <thead>\n",
              "    <tr style=\"text-align: right;\">\n",
              "      <th></th>\n",
              "      <th>Fecha_y_Hora</th>\n",
              "    </tr>\n",
              "  </thead>\n",
              "  <tbody>\n",
              "    <tr>\n",
              "      <th>97</th>\n",
              "      <td>44877 days 08:07:31</td>\n",
              "    </tr>\n",
              "  </tbody>\n",
              "</table>\n",
              "</div>\n",
              "      <button class=\"colab-df-convert\" onclick=\"convertToInteractive('df-09fbdf7b-3891-4169-852f-2d8e8f99bc85')\"\n",
              "              title=\"Convert this dataframe to an interactive table.\"\n",
              "              style=\"display:none;\">\n",
              "        \n",
              "  <svg xmlns=\"http://www.w3.org/2000/svg\" height=\"24px\"viewBox=\"0 0 24 24\"\n",
              "       width=\"24px\">\n",
              "    <path d=\"M0 0h24v24H0V0z\" fill=\"none\"/>\n",
              "    <path d=\"M18.56 5.44l.94 2.06.94-2.06 2.06-.94-2.06-.94-.94-2.06-.94 2.06-2.06.94zm-11 1L8.5 8.5l.94-2.06 2.06-.94-2.06-.94L8.5 2.5l-.94 2.06-2.06.94zm10 10l.94 2.06.94-2.06 2.06-.94-2.06-.94-.94-2.06-.94 2.06-2.06.94z\"/><path d=\"M17.41 7.96l-1.37-1.37c-.4-.4-.92-.59-1.43-.59-.52 0-1.04.2-1.43.59L10.3 9.45l-7.72 7.72c-.78.78-.78 2.05 0 2.83L4 21.41c.39.39.9.59 1.41.59.51 0 1.02-.2 1.41-.59l7.78-7.78 2.81-2.81c.8-.78.8-2.07 0-2.86zM5.41 20L4 18.59l7.72-7.72 1.47 1.35L5.41 20z\"/>\n",
              "  </svg>\n",
              "      </button>\n",
              "      \n",
              "  <style>\n",
              "    .colab-df-container {\n",
              "      display:flex;\n",
              "      flex-wrap:wrap;\n",
              "      gap: 12px;\n",
              "    }\n",
              "\n",
              "    .colab-df-convert {\n",
              "      background-color: #E8F0FE;\n",
              "      border: none;\n",
              "      border-radius: 50%;\n",
              "      cursor: pointer;\n",
              "      display: none;\n",
              "      fill: #1967D2;\n",
              "      height: 32px;\n",
              "      padding: 0 0 0 0;\n",
              "      width: 32px;\n",
              "    }\n",
              "\n",
              "    .colab-df-convert:hover {\n",
              "      background-color: #E2EBFA;\n",
              "      box-shadow: 0px 1px 2px rgba(60, 64, 67, 0.3), 0px 1px 3px 1px rgba(60, 64, 67, 0.15);\n",
              "      fill: #174EA6;\n",
              "    }\n",
              "\n",
              "    [theme=dark] .colab-df-convert {\n",
              "      background-color: #3B4455;\n",
              "      fill: #D2E3FC;\n",
              "    }\n",
              "\n",
              "    [theme=dark] .colab-df-convert:hover {\n",
              "      background-color: #434B5C;\n",
              "      box-shadow: 0px 1px 3px 1px rgba(0, 0, 0, 0.15);\n",
              "      filter: drop-shadow(0px 1px 2px rgba(0, 0, 0, 0.3));\n",
              "      fill: #FFFFFF;\n",
              "    }\n",
              "  </style>\n",
              "\n",
              "      <script>\n",
              "        const buttonEl =\n",
              "          document.querySelector('#df-09fbdf7b-3891-4169-852f-2d8e8f99bc85 button.colab-df-convert');\n",
              "        buttonEl.style.display =\n",
              "          google.colab.kernel.accessAllowed ? 'block' : 'none';\n",
              "\n",
              "        async function convertToInteractive(key) {\n",
              "          const element = document.querySelector('#df-09fbdf7b-3891-4169-852f-2d8e8f99bc85');\n",
              "          const dataTable =\n",
              "            await google.colab.kernel.invokeFunction('convertToInteractive',\n",
              "                                                     [key], {});\n",
              "          if (!dataTable) return;\n",
              "\n",
              "          const docLinkHtml = 'Like what you see? Visit the ' +\n",
              "            '<a target=\"_blank\" href=https://colab.research.google.com/notebooks/data_table.ipynb>data table notebook</a>'\n",
              "            + ' to learn more about interactive tables.';\n",
              "          element.innerHTML = '';\n",
              "          dataTable['output_type'] = 'display_data';\n",
              "          await google.colab.output.renderOutput(dataTable, element);\n",
              "          const docLink = document.createElement('div');\n",
              "          docLink.innerHTML = docLinkHtml;\n",
              "          element.appendChild(docLink);\n",
              "        }\n",
              "      </script>\n",
              "    </div>\n",
              "  </div>\n",
              "  "
            ]
          },
          "metadata": {},
          "execution_count": 739
        }
      ]
    },
    {
      "cell_type": "code",
      "source": [
        "#TIEMPO CALENDARIO TURNO 1\n",
        "\n",
        "tiempo['Fecha_y_Hora'] = tiempo['Fecha_y_Hora'].astype(str)\n",
        "# Separar la columna Fecha_y_Hora en dos columnas de fecha y hora\n",
        "tiempo[['Fecha', 'Hora']] = tiempo['Fecha_y_Hora'].str.split(' ', n=1, expand=True)\n",
        "# Eliminar las columnas 'Columna1' y 'Columna2'\n",
        "tiempo = tiempo.drop(['Fecha_y_Hora', 'Fecha'], axis=1)\n",
        "tiempo['Hora'] = tiempo['Hora'].str.replace('days ', '')\n",
        "tiempo"
      ],
      "metadata": {
        "colab": {
          "base_uri": "https://localhost:8080/",
          "height": 81
        },
        "id": "BYxt8uYCOKJT",
        "outputId": "d5cd6a30-29ca-4faa-8eb2-72cd869d561f"
      },
      "execution_count": null,
      "outputs": [
        {
          "output_type": "execute_result",
          "data": {
            "text/plain": [
              "        Hora\n",
              "97  08:07:31"
            ],
            "text/html": [
              "\n",
              "  <div id=\"df-e0b47c07-6536-4df1-b867-310fb2eba89f\">\n",
              "    <div class=\"colab-df-container\">\n",
              "      <div>\n",
              "<style scoped>\n",
              "    .dataframe tbody tr th:only-of-type {\n",
              "        vertical-align: middle;\n",
              "    }\n",
              "\n",
              "    .dataframe tbody tr th {\n",
              "        vertical-align: top;\n",
              "    }\n",
              "\n",
              "    .dataframe thead th {\n",
              "        text-align: right;\n",
              "    }\n",
              "</style>\n",
              "<table border=\"1\" class=\"dataframe\">\n",
              "  <thead>\n",
              "    <tr style=\"text-align: right;\">\n",
              "      <th></th>\n",
              "      <th>Hora</th>\n",
              "    </tr>\n",
              "  </thead>\n",
              "  <tbody>\n",
              "    <tr>\n",
              "      <th>97</th>\n",
              "      <td>08:07:31</td>\n",
              "    </tr>\n",
              "  </tbody>\n",
              "</table>\n",
              "</div>\n",
              "      <button class=\"colab-df-convert\" onclick=\"convertToInteractive('df-e0b47c07-6536-4df1-b867-310fb2eba89f')\"\n",
              "              title=\"Convert this dataframe to an interactive table.\"\n",
              "              style=\"display:none;\">\n",
              "        \n",
              "  <svg xmlns=\"http://www.w3.org/2000/svg\" height=\"24px\"viewBox=\"0 0 24 24\"\n",
              "       width=\"24px\">\n",
              "    <path d=\"M0 0h24v24H0V0z\" fill=\"none\"/>\n",
              "    <path d=\"M18.56 5.44l.94 2.06.94-2.06 2.06-.94-2.06-.94-.94-2.06-.94 2.06-2.06.94zm-11 1L8.5 8.5l.94-2.06 2.06-.94-2.06-.94L8.5 2.5l-.94 2.06-2.06.94zm10 10l.94 2.06.94-2.06 2.06-.94-2.06-.94-.94-2.06-.94 2.06-2.06.94z\"/><path d=\"M17.41 7.96l-1.37-1.37c-.4-.4-.92-.59-1.43-.59-.52 0-1.04.2-1.43.59L10.3 9.45l-7.72 7.72c-.78.78-.78 2.05 0 2.83L4 21.41c.39.39.9.59 1.41.59.51 0 1.02-.2 1.41-.59l7.78-7.78 2.81-2.81c.8-.78.8-2.07 0-2.86zM5.41 20L4 18.59l7.72-7.72 1.47 1.35L5.41 20z\"/>\n",
              "  </svg>\n",
              "      </button>\n",
              "      \n",
              "  <style>\n",
              "    .colab-df-container {\n",
              "      display:flex;\n",
              "      flex-wrap:wrap;\n",
              "      gap: 12px;\n",
              "    }\n",
              "\n",
              "    .colab-df-convert {\n",
              "      background-color: #E8F0FE;\n",
              "      border: none;\n",
              "      border-radius: 50%;\n",
              "      cursor: pointer;\n",
              "      display: none;\n",
              "      fill: #1967D2;\n",
              "      height: 32px;\n",
              "      padding: 0 0 0 0;\n",
              "      width: 32px;\n",
              "    }\n",
              "\n",
              "    .colab-df-convert:hover {\n",
              "      background-color: #E2EBFA;\n",
              "      box-shadow: 0px 1px 2px rgba(60, 64, 67, 0.3), 0px 1px 3px 1px rgba(60, 64, 67, 0.15);\n",
              "      fill: #174EA6;\n",
              "    }\n",
              "\n",
              "    [theme=dark] .colab-df-convert {\n",
              "      background-color: #3B4455;\n",
              "      fill: #D2E3FC;\n",
              "    }\n",
              "\n",
              "    [theme=dark] .colab-df-convert:hover {\n",
              "      background-color: #434B5C;\n",
              "      box-shadow: 0px 1px 3px 1px rgba(0, 0, 0, 0.15);\n",
              "      filter: drop-shadow(0px 1px 2px rgba(0, 0, 0, 0.3));\n",
              "      fill: #FFFFFF;\n",
              "    }\n",
              "  </style>\n",
              "\n",
              "      <script>\n",
              "        const buttonEl =\n",
              "          document.querySelector('#df-e0b47c07-6536-4df1-b867-310fb2eba89f button.colab-df-convert');\n",
              "        buttonEl.style.display =\n",
              "          google.colab.kernel.accessAllowed ? 'block' : 'none';\n",
              "\n",
              "        async function convertToInteractive(key) {\n",
              "          const element = document.querySelector('#df-e0b47c07-6536-4df1-b867-310fb2eba89f');\n",
              "          const dataTable =\n",
              "            await google.colab.kernel.invokeFunction('convertToInteractive',\n",
              "                                                     [key], {});\n",
              "          if (!dataTable) return;\n",
              "\n",
              "          const docLinkHtml = 'Like what you see? Visit the ' +\n",
              "            '<a target=\"_blank\" href=https://colab.research.google.com/notebooks/data_table.ipynb>data table notebook</a>'\n",
              "            + ' to learn more about interactive tables.';\n",
              "          element.innerHTML = '';\n",
              "          dataTable['output_type'] = 'display_data';\n",
              "          await google.colab.output.renderOutput(dataTable, element);\n",
              "          const docLink = document.createElement('div');\n",
              "          docLink.innerHTML = docLinkHtml;\n",
              "          element.appendChild(docLink);\n",
              "        }\n",
              "      </script>\n",
              "    </div>\n",
              "  </div>\n",
              "  "
            ]
          },
          "metadata": {},
          "execution_count": 740
        }
      ]
    },
    {
      "cell_type": "code",
      "source": [
        "# TIEMPO CALENDARIO TURNO 1\n",
        "# TRANSFORMAR MINUTOS A SEGUNDOS \n",
        "\n",
        "from datetime import timedelta\n",
        "# Convertir la columna 'Duration' a un objeto timedelta\n",
        "tiempo['Hora'] = pd.to_timedelta(tiempo['Hora'])\n",
        "# Extraer el número total de segundos de cada valor timedelta y reemplazar la columna 'Duration'\n",
        "tiempo['Hora'] = tiempo['Hora'].dt.total_seconds().astype(int)"
      ],
      "metadata": {
        "id": "dPIfLaB1RnOR"
      },
      "execution_count": null,
      "outputs": []
    },
    {
      "cell_type": "code",
      "source": [
        "tiempo"
      ],
      "metadata": {
        "colab": {
          "base_uri": "https://localhost:8080/",
          "height": 81
        },
        "id": "rkEsXofLR__I",
        "outputId": "3aac957a-45c3-4820-af81-4191ba2adab9"
      },
      "execution_count": null,
      "outputs": [
        {
          "output_type": "execute_result",
          "data": {
            "text/plain": [
              "     Hora\n",
              "97  29251"
            ],
            "text/html": [
              "\n",
              "  <div id=\"df-1a330330-c3cf-49a1-8e5e-c1054735b029\">\n",
              "    <div class=\"colab-df-container\">\n",
              "      <div>\n",
              "<style scoped>\n",
              "    .dataframe tbody tr th:only-of-type {\n",
              "        vertical-align: middle;\n",
              "    }\n",
              "\n",
              "    .dataframe tbody tr th {\n",
              "        vertical-align: top;\n",
              "    }\n",
              "\n",
              "    .dataframe thead th {\n",
              "        text-align: right;\n",
              "    }\n",
              "</style>\n",
              "<table border=\"1\" class=\"dataframe\">\n",
              "  <thead>\n",
              "    <tr style=\"text-align: right;\">\n",
              "      <th></th>\n",
              "      <th>Hora</th>\n",
              "    </tr>\n",
              "  </thead>\n",
              "  <tbody>\n",
              "    <tr>\n",
              "      <th>97</th>\n",
              "      <td>29251</td>\n",
              "    </tr>\n",
              "  </tbody>\n",
              "</table>\n",
              "</div>\n",
              "      <button class=\"colab-df-convert\" onclick=\"convertToInteractive('df-1a330330-c3cf-49a1-8e5e-c1054735b029')\"\n",
              "              title=\"Convert this dataframe to an interactive table.\"\n",
              "              style=\"display:none;\">\n",
              "        \n",
              "  <svg xmlns=\"http://www.w3.org/2000/svg\" height=\"24px\"viewBox=\"0 0 24 24\"\n",
              "       width=\"24px\">\n",
              "    <path d=\"M0 0h24v24H0V0z\" fill=\"none\"/>\n",
              "    <path d=\"M18.56 5.44l.94 2.06.94-2.06 2.06-.94-2.06-.94-.94-2.06-.94 2.06-2.06.94zm-11 1L8.5 8.5l.94-2.06 2.06-.94-2.06-.94L8.5 2.5l-.94 2.06-2.06.94zm10 10l.94 2.06.94-2.06 2.06-.94-2.06-.94-.94-2.06-.94 2.06-2.06.94z\"/><path d=\"M17.41 7.96l-1.37-1.37c-.4-.4-.92-.59-1.43-.59-.52 0-1.04.2-1.43.59L10.3 9.45l-7.72 7.72c-.78.78-.78 2.05 0 2.83L4 21.41c.39.39.9.59 1.41.59.51 0 1.02-.2 1.41-.59l7.78-7.78 2.81-2.81c.8-.78.8-2.07 0-2.86zM5.41 20L4 18.59l7.72-7.72 1.47 1.35L5.41 20z\"/>\n",
              "  </svg>\n",
              "      </button>\n",
              "      \n",
              "  <style>\n",
              "    .colab-df-container {\n",
              "      display:flex;\n",
              "      flex-wrap:wrap;\n",
              "      gap: 12px;\n",
              "    }\n",
              "\n",
              "    .colab-df-convert {\n",
              "      background-color: #E8F0FE;\n",
              "      border: none;\n",
              "      border-radius: 50%;\n",
              "      cursor: pointer;\n",
              "      display: none;\n",
              "      fill: #1967D2;\n",
              "      height: 32px;\n",
              "      padding: 0 0 0 0;\n",
              "      width: 32px;\n",
              "    }\n",
              "\n",
              "    .colab-df-convert:hover {\n",
              "      background-color: #E2EBFA;\n",
              "      box-shadow: 0px 1px 2px rgba(60, 64, 67, 0.3), 0px 1px 3px 1px rgba(60, 64, 67, 0.15);\n",
              "      fill: #174EA6;\n",
              "    }\n",
              "\n",
              "    [theme=dark] .colab-df-convert {\n",
              "      background-color: #3B4455;\n",
              "      fill: #D2E3FC;\n",
              "    }\n",
              "\n",
              "    [theme=dark] .colab-df-convert:hover {\n",
              "      background-color: #434B5C;\n",
              "      box-shadow: 0px 1px 3px 1px rgba(0, 0, 0, 0.15);\n",
              "      filter: drop-shadow(0px 1px 2px rgba(0, 0, 0, 0.3));\n",
              "      fill: #FFFFFF;\n",
              "    }\n",
              "  </style>\n",
              "\n",
              "      <script>\n",
              "        const buttonEl =\n",
              "          document.querySelector('#df-1a330330-c3cf-49a1-8e5e-c1054735b029 button.colab-df-convert');\n",
              "        buttonEl.style.display =\n",
              "          google.colab.kernel.accessAllowed ? 'block' : 'none';\n",
              "\n",
              "        async function convertToInteractive(key) {\n",
              "          const element = document.querySelector('#df-1a330330-c3cf-49a1-8e5e-c1054735b029');\n",
              "          const dataTable =\n",
              "            await google.colab.kernel.invokeFunction('convertToInteractive',\n",
              "                                                     [key], {});\n",
              "          if (!dataTable) return;\n",
              "\n",
              "          const docLinkHtml = 'Like what you see? Visit the ' +\n",
              "            '<a target=\"_blank\" href=https://colab.research.google.com/notebooks/data_table.ipynb>data table notebook</a>'\n",
              "            + ' to learn more about interactive tables.';\n",
              "          element.innerHTML = '';\n",
              "          dataTable['output_type'] = 'display_data';\n",
              "          await google.colab.output.renderOutput(dataTable, element);\n",
              "          const docLink = document.createElement('div');\n",
              "          docLink.innerHTML = docLinkHtml;\n",
              "          element.appendChild(docLink);\n",
              "        }\n",
              "      </script>\n",
              "    </div>\n",
              "  </div>\n",
              "  "
            ]
          },
          "metadata": {},
          "execution_count": 742
        }
      ]
    },
    {
      "cell_type": "code",
      "source": [
        "# TIEMPO CALENDARIO TURNO 1\n",
        "# Agrega a la tabla la columna de Hora \n",
        "TABLA_Soldadora['Tiempo_calendario_T1'] = tiempo\n",
        "TABLA_Soldadora['Tiempo_calendario_T1'] = TABLA_Soldadora['Tiempo_calendario_T1'].fillna(29251)\n",
        "\n",
        "TABLA_Soldadora.head(1)"
      ],
      "metadata": {
        "colab": {
          "base_uri": "https://localhost:8080/",
          "height": 162
        },
        "id": "PDzg1GYCRsJs",
        "outputId": "2fb15f07-0b6e-41fc-c6f1-e6ccca2b5443"
      },
      "execution_count": null,
      "outputs": [
        {
          "output_type": "execute_result",
          "data": {
            "text/plain": [
              "         Fecha_y_Hora Piezas_Soldadora  Cantidad_Piezas_T1_Totales  \\\n",
              "0 2022-11-14 06:57:27            12981                         131   \n",
              "\n",
              "   Cantidad_Piezas_T2_Totales  Cantidad_Piezas_T3_Totales Tiempo_STD_x_pieza  \\\n",
              "0                           0                           0                173   \n",
              "\n",
              "   Tiempo_Produccion  Parada_estado  Contador_Piezas_Soldadora1  lista_mayor1  \\\n",
              "0              300.0            300                           0           300   \n",
              "\n",
              "   Paradas_soldadora  Paradas_Totales  Tiempo_calendario_T1  \n",
              "0                  0            65704               29251.0  "
            ],
            "text/html": [
              "\n",
              "  <div id=\"df-f2d7a961-69c8-40e0-a7f2-adeed5decc51\">\n",
              "    <div class=\"colab-df-container\">\n",
              "      <div>\n",
              "<style scoped>\n",
              "    .dataframe tbody tr th:only-of-type {\n",
              "        vertical-align: middle;\n",
              "    }\n",
              "\n",
              "    .dataframe tbody tr th {\n",
              "        vertical-align: top;\n",
              "    }\n",
              "\n",
              "    .dataframe thead th {\n",
              "        text-align: right;\n",
              "    }\n",
              "</style>\n",
              "<table border=\"1\" class=\"dataframe\">\n",
              "  <thead>\n",
              "    <tr style=\"text-align: right;\">\n",
              "      <th></th>\n",
              "      <th>Fecha_y_Hora</th>\n",
              "      <th>Piezas_Soldadora</th>\n",
              "      <th>Cantidad_Piezas_T1_Totales</th>\n",
              "      <th>Cantidad_Piezas_T2_Totales</th>\n",
              "      <th>Cantidad_Piezas_T3_Totales</th>\n",
              "      <th>Tiempo_STD_x_pieza</th>\n",
              "      <th>Tiempo_Produccion</th>\n",
              "      <th>Parada_estado</th>\n",
              "      <th>Contador_Piezas_Soldadora1</th>\n",
              "      <th>lista_mayor1</th>\n",
              "      <th>Paradas_soldadora</th>\n",
              "      <th>Paradas_Totales</th>\n",
              "      <th>Tiempo_calendario_T1</th>\n",
              "    </tr>\n",
              "  </thead>\n",
              "  <tbody>\n",
              "    <tr>\n",
              "      <th>0</th>\n",
              "      <td>2022-11-14 06:57:27</td>\n",
              "      <td>12981</td>\n",
              "      <td>131</td>\n",
              "      <td>0</td>\n",
              "      <td>0</td>\n",
              "      <td>173</td>\n",
              "      <td>300.0</td>\n",
              "      <td>300</td>\n",
              "      <td>0</td>\n",
              "      <td>300</td>\n",
              "      <td>0</td>\n",
              "      <td>65704</td>\n",
              "      <td>29251.0</td>\n",
              "    </tr>\n",
              "  </tbody>\n",
              "</table>\n",
              "</div>\n",
              "      <button class=\"colab-df-convert\" onclick=\"convertToInteractive('df-f2d7a961-69c8-40e0-a7f2-adeed5decc51')\"\n",
              "              title=\"Convert this dataframe to an interactive table.\"\n",
              "              style=\"display:none;\">\n",
              "        \n",
              "  <svg xmlns=\"http://www.w3.org/2000/svg\" height=\"24px\"viewBox=\"0 0 24 24\"\n",
              "       width=\"24px\">\n",
              "    <path d=\"M0 0h24v24H0V0z\" fill=\"none\"/>\n",
              "    <path d=\"M18.56 5.44l.94 2.06.94-2.06 2.06-.94-2.06-.94-.94-2.06-.94 2.06-2.06.94zm-11 1L8.5 8.5l.94-2.06 2.06-.94-2.06-.94L8.5 2.5l-.94 2.06-2.06.94zm10 10l.94 2.06.94-2.06 2.06-.94-2.06-.94-.94-2.06-.94 2.06-2.06.94z\"/><path d=\"M17.41 7.96l-1.37-1.37c-.4-.4-.92-.59-1.43-.59-.52 0-1.04.2-1.43.59L10.3 9.45l-7.72 7.72c-.78.78-.78 2.05 0 2.83L4 21.41c.39.39.9.59 1.41.59.51 0 1.02-.2 1.41-.59l7.78-7.78 2.81-2.81c.8-.78.8-2.07 0-2.86zM5.41 20L4 18.59l7.72-7.72 1.47 1.35L5.41 20z\"/>\n",
              "  </svg>\n",
              "      </button>\n",
              "      \n",
              "  <style>\n",
              "    .colab-df-container {\n",
              "      display:flex;\n",
              "      flex-wrap:wrap;\n",
              "      gap: 12px;\n",
              "    }\n",
              "\n",
              "    .colab-df-convert {\n",
              "      background-color: #E8F0FE;\n",
              "      border: none;\n",
              "      border-radius: 50%;\n",
              "      cursor: pointer;\n",
              "      display: none;\n",
              "      fill: #1967D2;\n",
              "      height: 32px;\n",
              "      padding: 0 0 0 0;\n",
              "      width: 32px;\n",
              "    }\n",
              "\n",
              "    .colab-df-convert:hover {\n",
              "      background-color: #E2EBFA;\n",
              "      box-shadow: 0px 1px 2px rgba(60, 64, 67, 0.3), 0px 1px 3px 1px rgba(60, 64, 67, 0.15);\n",
              "      fill: #174EA6;\n",
              "    }\n",
              "\n",
              "    [theme=dark] .colab-df-convert {\n",
              "      background-color: #3B4455;\n",
              "      fill: #D2E3FC;\n",
              "    }\n",
              "\n",
              "    [theme=dark] .colab-df-convert:hover {\n",
              "      background-color: #434B5C;\n",
              "      box-shadow: 0px 1px 3px 1px rgba(0, 0, 0, 0.15);\n",
              "      filter: drop-shadow(0px 1px 2px rgba(0, 0, 0, 0.3));\n",
              "      fill: #FFFFFF;\n",
              "    }\n",
              "  </style>\n",
              "\n",
              "      <script>\n",
              "        const buttonEl =\n",
              "          document.querySelector('#df-f2d7a961-69c8-40e0-a7f2-adeed5decc51 button.colab-df-convert');\n",
              "        buttonEl.style.display =\n",
              "          google.colab.kernel.accessAllowed ? 'block' : 'none';\n",
              "\n",
              "        async function convertToInteractive(key) {\n",
              "          const element = document.querySelector('#df-f2d7a961-69c8-40e0-a7f2-adeed5decc51');\n",
              "          const dataTable =\n",
              "            await google.colab.kernel.invokeFunction('convertToInteractive',\n",
              "                                                     [key], {});\n",
              "          if (!dataTable) return;\n",
              "\n",
              "          const docLinkHtml = 'Like what you see? Visit the ' +\n",
              "            '<a target=\"_blank\" href=https://colab.research.google.com/notebooks/data_table.ipynb>data table notebook</a>'\n",
              "            + ' to learn more about interactive tables.';\n",
              "          element.innerHTML = '';\n",
              "          dataTable['output_type'] = 'display_data';\n",
              "          await google.colab.output.renderOutput(dataTable, element);\n",
              "          const docLink = document.createElement('div');\n",
              "          docLink.innerHTML = docLinkHtml;\n",
              "          element.appendChild(docLink);\n",
              "        }\n",
              "      </script>\n",
              "    </div>\n",
              "  </div>\n",
              "  "
            ]
          },
          "metadata": {},
          "execution_count": 743
        }
      ]
    },
    {
      "cell_type": "code",
      "execution_count": null,
      "metadata": {
        "colab": {
          "base_uri": "https://localhost:8080/"
        },
        "id": "APn6-pPmHKec",
        "outputId": "f87dfcdb-ed2c-4edd-dc5c-47fe1992898c"
      },
      "outputs": [
        {
          "output_type": "stream",
          "name": "stdout",
          "text": [
            "La cantidad de piezas hechas en el TURNO 1 son:  131\n"
          ]
        }
      ],
      "source": [
        "'''\n",
        "Para el TURNO 1: SOLADADORA\n",
        "Para el TURNO 1: Primero revisa si la columna del turno seleccionado esta vacio o no, si esta vacio no se producieron piezas y en caso contrario agarra el primer y \n",
        "ultimo dato y los convierte en int, resta al ultimo dato con el primero. Si la cantidad de piezas hechas es menor a cero no se hicieron piezas y sino te tira la cantidad \n",
        "que se hicieron.\n",
        "'''\n",
        "if TURNO1['Piezas_Soldadora'].empty == False: \n",
        "  Piezas_Soldadora_primer_datoT1 = int(TURNO1['Piezas_Soldadora'][:1])\n",
        "  Piezas_Soldadora_ultimo_datoT1 = int(TURNO1['Piezas_Soldadora'][-1:])\n",
        "  cantidadDePiezasHechas1 = Piezas_Soldadora_ultimo_datoT1 - Piezas_Soldadora_primer_datoT1\n",
        "  if cantidadDePiezasHechas1 < 0:\n",
        "    print(\"No se hicieron piezas\")\n",
        "  else:\n",
        "    print(\"La cantidad de piezas hechas en el TURNO 1 son: \", cantidadDePiezasHechas1)\n",
        "else: \n",
        "  #Sino hay ninguna fila, llenarlas con ceros, 0.\n",
        "  cantHechasPiezas1\n",
        "  print(\"No se hicieron piezas\")"
      ]
    },
    {
      "cell_type": "code",
      "execution_count": null,
      "metadata": {
        "id": "W6-hOYjbH5Hk"
      },
      "outputs": [],
      "source": [
        "# SOLDADORA\n",
        "# Agrega a la tabla la columna de Cantidad_Piezas_T1_Totales \n",
        "tabla_nueva2['Cantidad_Piezas_T1_Totales'] = cantidadDePiezasHechas1\n",
        "#tabla_nueva2"
      ]
    },
    {
      "cell_type": "code",
      "execution_count": null,
      "metadata": {
        "id": "2YqvXKsAlNTu"
      },
      "outputs": [],
      "source": [
        "# Seleccionar entre dos fechas del índice desde las 17 pm hasta las 00 pm el dia 2022-11-15\n",
        "TURNO2 = tabla_nueva2[(tabla_nueva['Fecha_y_Hora'] >= '2022-11-14 17:00:00') & (tabla_nueva2['Fecha_y_Hora'] <= '2022-11-14 00:00:00')]\n",
        "#TURNO2"
      ]
    },
    {
      "cell_type": "code",
      "source": [
        "#CANTIDAD DE PIEZAS SOLDADORA TURNO 2 (EL ACTUAL MENOS EL ANTERIOR)\n",
        "\n",
        "piezas_soldora_T2 = TURNO2[\"Piezas_Soldadora\"].astype(int)\n",
        "TURNO2['Contador_Piezas_Soldadora_T2']=piezas_soldora_T2.diff(1)\n",
        "print(\"La suma:\",TURNO2.loc[TURNO2[\"Contador_Piezas_Soldadora_T2\"]>0,\"Contador_Piezas_Soldadora_T2\"].sum())\n",
        "TURNO2.head(1)"
      ],
      "metadata": {
        "colab": {
          "base_uri": "https://localhost:8080/",
          "height": 67
        },
        "id": "W2kENqe5Sb9V",
        "outputId": "ff983752-556b-495c-a8af-aaed0723feaa"
      },
      "execution_count": null,
      "outputs": [
        {
          "output_type": "stream",
          "name": "stdout",
          "text": [
            "La suma: 0.0\n"
          ]
        },
        {
          "output_type": "execute_result",
          "data": {
            "text/plain": [
              "Empty DataFrame\n",
              "Columns: [S1, S2, S3, Piezas_Soldadora, Fecha_y_Hora, Diferencia_F_H, Cantidad_Piezas_T1_Totales, Contador_Piezas_Soldadora_T2]\n",
              "Index: []"
            ],
            "text/html": [
              "\n",
              "  <div id=\"df-6b4124d6-32cd-435e-8eb6-c24744cf82eb\">\n",
              "    <div class=\"colab-df-container\">\n",
              "      <div>\n",
              "<style scoped>\n",
              "    .dataframe tbody tr th:only-of-type {\n",
              "        vertical-align: middle;\n",
              "    }\n",
              "\n",
              "    .dataframe tbody tr th {\n",
              "        vertical-align: top;\n",
              "    }\n",
              "\n",
              "    .dataframe thead th {\n",
              "        text-align: right;\n",
              "    }\n",
              "</style>\n",
              "<table border=\"1\" class=\"dataframe\">\n",
              "  <thead>\n",
              "    <tr style=\"text-align: right;\">\n",
              "      <th></th>\n",
              "      <th>S1</th>\n",
              "      <th>S2</th>\n",
              "      <th>S3</th>\n",
              "      <th>Piezas_Soldadora</th>\n",
              "      <th>Fecha_y_Hora</th>\n",
              "      <th>Diferencia_F_H</th>\n",
              "      <th>Cantidad_Piezas_T1_Totales</th>\n",
              "      <th>Contador_Piezas_Soldadora_T2</th>\n",
              "    </tr>\n",
              "  </thead>\n",
              "  <tbody>\n",
              "  </tbody>\n",
              "</table>\n",
              "</div>\n",
              "      <button class=\"colab-df-convert\" onclick=\"convertToInteractive('df-6b4124d6-32cd-435e-8eb6-c24744cf82eb')\"\n",
              "              title=\"Convert this dataframe to an interactive table.\"\n",
              "              style=\"display:none;\">\n",
              "        \n",
              "  <svg xmlns=\"http://www.w3.org/2000/svg\" height=\"24px\"viewBox=\"0 0 24 24\"\n",
              "       width=\"24px\">\n",
              "    <path d=\"M0 0h24v24H0V0z\" fill=\"none\"/>\n",
              "    <path d=\"M18.56 5.44l.94 2.06.94-2.06 2.06-.94-2.06-.94-.94-2.06-.94 2.06-2.06.94zm-11 1L8.5 8.5l.94-2.06 2.06-.94-2.06-.94L8.5 2.5l-.94 2.06-2.06.94zm10 10l.94 2.06.94-2.06 2.06-.94-2.06-.94-.94-2.06-.94 2.06-2.06.94z\"/><path d=\"M17.41 7.96l-1.37-1.37c-.4-.4-.92-.59-1.43-.59-.52 0-1.04.2-1.43.59L10.3 9.45l-7.72 7.72c-.78.78-.78 2.05 0 2.83L4 21.41c.39.39.9.59 1.41.59.51 0 1.02-.2 1.41-.59l7.78-7.78 2.81-2.81c.8-.78.8-2.07 0-2.86zM5.41 20L4 18.59l7.72-7.72 1.47 1.35L5.41 20z\"/>\n",
              "  </svg>\n",
              "      </button>\n",
              "      \n",
              "  <style>\n",
              "    .colab-df-container {\n",
              "      display:flex;\n",
              "      flex-wrap:wrap;\n",
              "      gap: 12px;\n",
              "    }\n",
              "\n",
              "    .colab-df-convert {\n",
              "      background-color: #E8F0FE;\n",
              "      border: none;\n",
              "      border-radius: 50%;\n",
              "      cursor: pointer;\n",
              "      display: none;\n",
              "      fill: #1967D2;\n",
              "      height: 32px;\n",
              "      padding: 0 0 0 0;\n",
              "      width: 32px;\n",
              "    }\n",
              "\n",
              "    .colab-df-convert:hover {\n",
              "      background-color: #E2EBFA;\n",
              "      box-shadow: 0px 1px 2px rgba(60, 64, 67, 0.3), 0px 1px 3px 1px rgba(60, 64, 67, 0.15);\n",
              "      fill: #174EA6;\n",
              "    }\n",
              "\n",
              "    [theme=dark] .colab-df-convert {\n",
              "      background-color: #3B4455;\n",
              "      fill: #D2E3FC;\n",
              "    }\n",
              "\n",
              "    [theme=dark] .colab-df-convert:hover {\n",
              "      background-color: #434B5C;\n",
              "      box-shadow: 0px 1px 3px 1px rgba(0, 0, 0, 0.15);\n",
              "      filter: drop-shadow(0px 1px 2px rgba(0, 0, 0, 0.3));\n",
              "      fill: #FFFFFF;\n",
              "    }\n",
              "  </style>\n",
              "\n",
              "      <script>\n",
              "        const buttonEl =\n",
              "          document.querySelector('#df-6b4124d6-32cd-435e-8eb6-c24744cf82eb button.colab-df-convert');\n",
              "        buttonEl.style.display =\n",
              "          google.colab.kernel.accessAllowed ? 'block' : 'none';\n",
              "\n",
              "        async function convertToInteractive(key) {\n",
              "          const element = document.querySelector('#df-6b4124d6-32cd-435e-8eb6-c24744cf82eb');\n",
              "          const dataTable =\n",
              "            await google.colab.kernel.invokeFunction('convertToInteractive',\n",
              "                                                     [key], {});\n",
              "          if (!dataTable) return;\n",
              "\n",
              "          const docLinkHtml = 'Like what you see? Visit the ' +\n",
              "            '<a target=\"_blank\" href=https://colab.research.google.com/notebooks/data_table.ipynb>data table notebook</a>'\n",
              "            + ' to learn more about interactive tables.';\n",
              "          element.innerHTML = '';\n",
              "          dataTable['output_type'] = 'display_data';\n",
              "          await google.colab.output.renderOutput(dataTable, element);\n",
              "          const docLink = document.createElement('div');\n",
              "          docLink.innerHTML = docLinkHtml;\n",
              "          element.appendChild(docLink);\n",
              "        }\n",
              "      </script>\n",
              "    </div>\n",
              "  </div>\n",
              "  "
            ]
          },
          "metadata": {},
          "execution_count": 630
        }
      ]
    },
    {
      "cell_type": "code",
      "source": [
        "# ARREGLAR TURNO 2 QUE PASA SINO ENTRA NINGUNA PIEZA\n",
        "\n",
        "#Remplazar los NaN por ceros SOLDADORA TURNO 2\n",
        "#TURNO2['Contador_Piezas_Soldadora_T1'] = TURNO2['Contador_Piezas_Soldadora_T1'].replace(np.nan, 0)\n",
        "#TURNO2.head(1)"
      ],
      "metadata": {
        "id": "9TCiyMMUSwXG"
      },
      "execution_count": null,
      "outputs": []
    },
    {
      "cell_type": "code",
      "source": [],
      "metadata": {
        "id": "SkWSCYzlSpU1"
      },
      "execution_count": null,
      "outputs": []
    },
    {
      "cell_type": "code",
      "execution_count": null,
      "metadata": {
        "colab": {
          "base_uri": "https://localhost:8080/"
        },
        "id": "1jdsTnhTIsSn",
        "outputId": "21bcbcd1-b246-4d47-dbb6-f20cdf194ea1"
      },
      "outputs": [
        {
          "output_type": "stream",
          "name": "stdout",
          "text": [
            "No se hicieron piezas 0\n"
          ]
        }
      ],
      "source": [
        "'''\n",
        "SOLADADORA\n",
        "Para el TURNO 2: Primero revisa si la columna del turno seleccionado esta vacio o no, si esta vacio no se producieron piezas y en caso contrario agarra el primer y \n",
        "ultimo dato y los convierte en int, resta al ultimo dato con el primero. Si la cantidad de piezas hechas es menor a cero no se hicieron piezas y sino te tira la cantidad \n",
        "que se hicieron.\n",
        "'''\n",
        "if TURNO2['Piezas_Soldadora'].empty == False: \n",
        "  Piezas_Soldadora_primer_datoT1 = int(TURNO2['Piezas_Soldadora'][:1])\n",
        "  Piezas_Soldadora_ultimo_datoT1 = int(TURNO2['Piezas_Soldadora'][-1:])\n",
        "  cantidadDePiezasHechas2 = Piezas_Soldadora_ultimo_datoT1 - Piezas_Soldadora_primer_datoT1\n",
        "  if cantidadDePiezasHechas2 < 0:\n",
        "    print(\"No se hicieron piezas\")\n",
        "  else:\n",
        "    print(\"La cantidad de piezas hechas en el TURNO 1 son: \", cantidadDePiezasHechas2)\n",
        "else: \n",
        "  #Sino hay ninguna fila, llenarlas con ceros, 0.\n",
        "  cantHechasPiezas2 = 0\n",
        "  print(\"No se hicieron piezas\", cantHechasPiezas2)"
      ]
    },
    {
      "cell_type": "code",
      "execution_count": null,
      "metadata": {
        "id": "4l1usm8IIvb6"
      },
      "outputs": [],
      "source": [
        "# SOLADADORA\n",
        "# Agrega a la tabla la columna de Cantidad_Piezas_T2_Totales \n",
        "tabla_nueva2['Cantidad_Piezas_T2_Totales'] = cantHechasPiezas2\n",
        "#tabla_nueva2"
      ]
    },
    {
      "cell_type": "code",
      "execution_count": null,
      "metadata": {
        "id": "mMNo9SzslwRe",
        "colab": {
          "base_uri": "https://localhost:8080/",
          "height": 206
        },
        "outputId": "414e1e45-d00a-45f2-81bd-fc6489346a88"
      },
      "outputs": [
        {
          "output_type": "execute_result",
          "data": {
            "text/plain": [
              "  S1 S2 S3 Piezas_Soldadora        Fecha_y_Hora  Diferencia_F_H  \\\n",
              "0  0  0  2            12981 2022-11-14 06:57:27 0 days 00:05:00   \n",
              "1  0  0  2            12981 2022-11-14 07:02:27 0 days 00:05:00   \n",
              "2  0  0  2            12981 2022-11-14 07:07:27 0 days 00:05:00   \n",
              "3  0  0  2            12981 2022-11-14 07:12:27 0 days 00:05:00   \n",
              "4  0  0  2            12981 2022-11-14 07:17:27 0 days 00:05:00   \n",
              "\n",
              "   Cantidad_Piezas_T1_Totales  Cantidad_Piezas_T2_Totales  \n",
              "0                         131                           0  \n",
              "1                         131                           0  \n",
              "2                         131                           0  \n",
              "3                         131                           0  \n",
              "4                         131                           0  "
            ],
            "text/html": [
              "\n",
              "  <div id=\"df-cf46e8b5-5e14-4039-8c4c-dd6013f8b8d1\">\n",
              "    <div class=\"colab-df-container\">\n",
              "      <div>\n",
              "<style scoped>\n",
              "    .dataframe tbody tr th:only-of-type {\n",
              "        vertical-align: middle;\n",
              "    }\n",
              "\n",
              "    .dataframe tbody tr th {\n",
              "        vertical-align: top;\n",
              "    }\n",
              "\n",
              "    .dataframe thead th {\n",
              "        text-align: right;\n",
              "    }\n",
              "</style>\n",
              "<table border=\"1\" class=\"dataframe\">\n",
              "  <thead>\n",
              "    <tr style=\"text-align: right;\">\n",
              "      <th></th>\n",
              "      <th>S1</th>\n",
              "      <th>S2</th>\n",
              "      <th>S3</th>\n",
              "      <th>Piezas_Soldadora</th>\n",
              "      <th>Fecha_y_Hora</th>\n",
              "      <th>Diferencia_F_H</th>\n",
              "      <th>Cantidad_Piezas_T1_Totales</th>\n",
              "      <th>Cantidad_Piezas_T2_Totales</th>\n",
              "    </tr>\n",
              "  </thead>\n",
              "  <tbody>\n",
              "    <tr>\n",
              "      <th>0</th>\n",
              "      <td>0</td>\n",
              "      <td>0</td>\n",
              "      <td>2</td>\n",
              "      <td>12981</td>\n",
              "      <td>2022-11-14 06:57:27</td>\n",
              "      <td>0 days 00:05:00</td>\n",
              "      <td>131</td>\n",
              "      <td>0</td>\n",
              "    </tr>\n",
              "    <tr>\n",
              "      <th>1</th>\n",
              "      <td>0</td>\n",
              "      <td>0</td>\n",
              "      <td>2</td>\n",
              "      <td>12981</td>\n",
              "      <td>2022-11-14 07:02:27</td>\n",
              "      <td>0 days 00:05:00</td>\n",
              "      <td>131</td>\n",
              "      <td>0</td>\n",
              "    </tr>\n",
              "    <tr>\n",
              "      <th>2</th>\n",
              "      <td>0</td>\n",
              "      <td>0</td>\n",
              "      <td>2</td>\n",
              "      <td>12981</td>\n",
              "      <td>2022-11-14 07:07:27</td>\n",
              "      <td>0 days 00:05:00</td>\n",
              "      <td>131</td>\n",
              "      <td>0</td>\n",
              "    </tr>\n",
              "    <tr>\n",
              "      <th>3</th>\n",
              "      <td>0</td>\n",
              "      <td>0</td>\n",
              "      <td>2</td>\n",
              "      <td>12981</td>\n",
              "      <td>2022-11-14 07:12:27</td>\n",
              "      <td>0 days 00:05:00</td>\n",
              "      <td>131</td>\n",
              "      <td>0</td>\n",
              "    </tr>\n",
              "    <tr>\n",
              "      <th>4</th>\n",
              "      <td>0</td>\n",
              "      <td>0</td>\n",
              "      <td>2</td>\n",
              "      <td>12981</td>\n",
              "      <td>2022-11-14 07:17:27</td>\n",
              "      <td>0 days 00:05:00</td>\n",
              "      <td>131</td>\n",
              "      <td>0</td>\n",
              "    </tr>\n",
              "  </tbody>\n",
              "</table>\n",
              "</div>\n",
              "      <button class=\"colab-df-convert\" onclick=\"convertToInteractive('df-cf46e8b5-5e14-4039-8c4c-dd6013f8b8d1')\"\n",
              "              title=\"Convert this dataframe to an interactive table.\"\n",
              "              style=\"display:none;\">\n",
              "        \n",
              "  <svg xmlns=\"http://www.w3.org/2000/svg\" height=\"24px\"viewBox=\"0 0 24 24\"\n",
              "       width=\"24px\">\n",
              "    <path d=\"M0 0h24v24H0V0z\" fill=\"none\"/>\n",
              "    <path d=\"M18.56 5.44l.94 2.06.94-2.06 2.06-.94-2.06-.94-.94-2.06-.94 2.06-2.06.94zm-11 1L8.5 8.5l.94-2.06 2.06-.94-2.06-.94L8.5 2.5l-.94 2.06-2.06.94zm10 10l.94 2.06.94-2.06 2.06-.94-2.06-.94-.94-2.06-.94 2.06-2.06.94z\"/><path d=\"M17.41 7.96l-1.37-1.37c-.4-.4-.92-.59-1.43-.59-.52 0-1.04.2-1.43.59L10.3 9.45l-7.72 7.72c-.78.78-.78 2.05 0 2.83L4 21.41c.39.39.9.59 1.41.59.51 0 1.02-.2 1.41-.59l7.78-7.78 2.81-2.81c.8-.78.8-2.07 0-2.86zM5.41 20L4 18.59l7.72-7.72 1.47 1.35L5.41 20z\"/>\n",
              "  </svg>\n",
              "      </button>\n",
              "      \n",
              "  <style>\n",
              "    .colab-df-container {\n",
              "      display:flex;\n",
              "      flex-wrap:wrap;\n",
              "      gap: 12px;\n",
              "    }\n",
              "\n",
              "    .colab-df-convert {\n",
              "      background-color: #E8F0FE;\n",
              "      border: none;\n",
              "      border-radius: 50%;\n",
              "      cursor: pointer;\n",
              "      display: none;\n",
              "      fill: #1967D2;\n",
              "      height: 32px;\n",
              "      padding: 0 0 0 0;\n",
              "      width: 32px;\n",
              "    }\n",
              "\n",
              "    .colab-df-convert:hover {\n",
              "      background-color: #E2EBFA;\n",
              "      box-shadow: 0px 1px 2px rgba(60, 64, 67, 0.3), 0px 1px 3px 1px rgba(60, 64, 67, 0.15);\n",
              "      fill: #174EA6;\n",
              "    }\n",
              "\n",
              "    [theme=dark] .colab-df-convert {\n",
              "      background-color: #3B4455;\n",
              "      fill: #D2E3FC;\n",
              "    }\n",
              "\n",
              "    [theme=dark] .colab-df-convert:hover {\n",
              "      background-color: #434B5C;\n",
              "      box-shadow: 0px 1px 3px 1px rgba(0, 0, 0, 0.15);\n",
              "      filter: drop-shadow(0px 1px 2px rgba(0, 0, 0, 0.3));\n",
              "      fill: #FFFFFF;\n",
              "    }\n",
              "  </style>\n",
              "\n",
              "      <script>\n",
              "        const buttonEl =\n",
              "          document.querySelector('#df-cf46e8b5-5e14-4039-8c4c-dd6013f8b8d1 button.colab-df-convert');\n",
              "        buttonEl.style.display =\n",
              "          google.colab.kernel.accessAllowed ? 'block' : 'none';\n",
              "\n",
              "        async function convertToInteractive(key) {\n",
              "          const element = document.querySelector('#df-cf46e8b5-5e14-4039-8c4c-dd6013f8b8d1');\n",
              "          const dataTable =\n",
              "            await google.colab.kernel.invokeFunction('convertToInteractive',\n",
              "                                                     [key], {});\n",
              "          if (!dataTable) return;\n",
              "\n",
              "          const docLinkHtml = 'Like what you see? Visit the ' +\n",
              "            '<a target=\"_blank\" href=https://colab.research.google.com/notebooks/data_table.ipynb>data table notebook</a>'\n",
              "            + ' to learn more about interactive tables.';\n",
              "          element.innerHTML = '';\n",
              "          dataTable['output_type'] = 'display_data';\n",
              "          await google.colab.output.renderOutput(dataTable, element);\n",
              "          const docLink = document.createElement('div');\n",
              "          docLink.innerHTML = docLinkHtml;\n",
              "          element.appendChild(docLink);\n",
              "        }\n",
              "      </script>\n",
              "    </div>\n",
              "  </div>\n",
              "  "
            ]
          },
          "metadata": {},
          "execution_count": 634
        }
      ],
      "source": [
        "# Seleccionar entre dos fechas del índice desde las 8 am hasta las 17 pm el dia 2022-11-15\n",
        "TURNO3 = tabla_nueva2[(tabla_nueva['Fecha_y_Hora'] >= '2022-11-14 00:00:00') & (tabla_nueva2['Fecha_y_Hora'] <= '2022-11-14 08:00:00')]\n",
        "TURNO3"
      ]
    },
    {
      "cell_type": "code",
      "execution_count": null,
      "metadata": {
        "colab": {
          "base_uri": "https://localhost:8080/"
        },
        "id": "G1ydTsZSSpJs",
        "outputId": "52f343b1-832b-466a-8d84-162e3ea0cc6c"
      },
      "outputs": [
        {
          "output_type": "stream",
          "name": "stdout",
          "text": [
            "La cantidad de piezas hechas en el TURNO 3 son:  0\n"
          ]
        }
      ],
      "source": [
        "'''\n",
        "SOLDADORA\n",
        "Para el TURNO 3: Primero revisa si la columna del turno seleccionado esta vacio o no, si esta vacio no se producieron piezas y en caso contrario agarra el primer y \n",
        "ultimo dato y los convierte en int, resta al ultimo dato con el primero. Si la cantidad de piezas hechas es menor a cero no se hicieron piezas y sino te tira la cantidad \n",
        "que se hicieron.\n",
        "'''\n",
        "if TURNO3['Piezas_Soldadora'].empty == False: \n",
        "  Piezas_Soldadora_primer_datoT3 = int(TURNO3['Piezas_Soldadora'][:1])\n",
        "  Piezas_Soldadora_ultimo_datoT3 = int(TURNO3['Piezas_Soldadora'][-1:])\n",
        "  cantidadDePiezasHechas3 = Piezas_Soldadora_ultimo_datoT3 - Piezas_Soldadora_primer_datoT3\n",
        "  if cantidadDePiezasHechas3 < 0:\n",
        "    print(\"No se hicieron piezas\")\n",
        "  else:\n",
        "    print(\"La cantidad de piezas hechas en el TURNO 3 son: \", cantidadDePiezasHechas3)\n",
        "else: \n",
        "  #Sino hay ninguna fila, llenarlas con ceros, 0.\n",
        "  cantHechasPiezas3 = 0\n",
        "  print(\"No se hicieron piezas\", cantHechasPiezas3)"
      ]
    },
    {
      "cell_type": "code",
      "execution_count": null,
      "metadata": {
        "id": "AQEPrHSHKLEB",
        "colab": {
          "base_uri": "https://localhost:8080/",
          "height": 81
        },
        "outputId": "28131b30-de10-49f4-dc8d-f27df1b5d91d"
      },
      "outputs": [
        {
          "output_type": "execute_result",
          "data": {
            "text/plain": [
              "  S1 S2 S3 Piezas_Soldadora        Fecha_y_Hora  Diferencia_F_H  \\\n",
              "0  0  0  2            12981 2022-11-14 06:57:27 0 days 00:05:00   \n",
              "\n",
              "   Cantidad_Piezas_T1_Totales  Cantidad_Piezas_T2_Totales  \\\n",
              "0                         131                           0   \n",
              "\n",
              "   Cantidad_Piezas_T3_Totales  \n",
              "0                           0  "
            ],
            "text/html": [
              "\n",
              "  <div id=\"df-a8d89c5e-b69a-4eb5-b5c9-11ab739f1638\">\n",
              "    <div class=\"colab-df-container\">\n",
              "      <div>\n",
              "<style scoped>\n",
              "    .dataframe tbody tr th:only-of-type {\n",
              "        vertical-align: middle;\n",
              "    }\n",
              "\n",
              "    .dataframe tbody tr th {\n",
              "        vertical-align: top;\n",
              "    }\n",
              "\n",
              "    .dataframe thead th {\n",
              "        text-align: right;\n",
              "    }\n",
              "</style>\n",
              "<table border=\"1\" class=\"dataframe\">\n",
              "  <thead>\n",
              "    <tr style=\"text-align: right;\">\n",
              "      <th></th>\n",
              "      <th>S1</th>\n",
              "      <th>S2</th>\n",
              "      <th>S3</th>\n",
              "      <th>Piezas_Soldadora</th>\n",
              "      <th>Fecha_y_Hora</th>\n",
              "      <th>Diferencia_F_H</th>\n",
              "      <th>Cantidad_Piezas_T1_Totales</th>\n",
              "      <th>Cantidad_Piezas_T2_Totales</th>\n",
              "      <th>Cantidad_Piezas_T3_Totales</th>\n",
              "    </tr>\n",
              "  </thead>\n",
              "  <tbody>\n",
              "    <tr>\n",
              "      <th>0</th>\n",
              "      <td>0</td>\n",
              "      <td>0</td>\n",
              "      <td>2</td>\n",
              "      <td>12981</td>\n",
              "      <td>2022-11-14 06:57:27</td>\n",
              "      <td>0 days 00:05:00</td>\n",
              "      <td>131</td>\n",
              "      <td>0</td>\n",
              "      <td>0</td>\n",
              "    </tr>\n",
              "  </tbody>\n",
              "</table>\n",
              "</div>\n",
              "      <button class=\"colab-df-convert\" onclick=\"convertToInteractive('df-a8d89c5e-b69a-4eb5-b5c9-11ab739f1638')\"\n",
              "              title=\"Convert this dataframe to an interactive table.\"\n",
              "              style=\"display:none;\">\n",
              "        \n",
              "  <svg xmlns=\"http://www.w3.org/2000/svg\" height=\"24px\"viewBox=\"0 0 24 24\"\n",
              "       width=\"24px\">\n",
              "    <path d=\"M0 0h24v24H0V0z\" fill=\"none\"/>\n",
              "    <path d=\"M18.56 5.44l.94 2.06.94-2.06 2.06-.94-2.06-.94-.94-2.06-.94 2.06-2.06.94zm-11 1L8.5 8.5l.94-2.06 2.06-.94-2.06-.94L8.5 2.5l-.94 2.06-2.06.94zm10 10l.94 2.06.94-2.06 2.06-.94-2.06-.94-.94-2.06-.94 2.06-2.06.94z\"/><path d=\"M17.41 7.96l-1.37-1.37c-.4-.4-.92-.59-1.43-.59-.52 0-1.04.2-1.43.59L10.3 9.45l-7.72 7.72c-.78.78-.78 2.05 0 2.83L4 21.41c.39.39.9.59 1.41.59.51 0 1.02-.2 1.41-.59l7.78-7.78 2.81-2.81c.8-.78.8-2.07 0-2.86zM5.41 20L4 18.59l7.72-7.72 1.47 1.35L5.41 20z\"/>\n",
              "  </svg>\n",
              "      </button>\n",
              "      \n",
              "  <style>\n",
              "    .colab-df-container {\n",
              "      display:flex;\n",
              "      flex-wrap:wrap;\n",
              "      gap: 12px;\n",
              "    }\n",
              "\n",
              "    .colab-df-convert {\n",
              "      background-color: #E8F0FE;\n",
              "      border: none;\n",
              "      border-radius: 50%;\n",
              "      cursor: pointer;\n",
              "      display: none;\n",
              "      fill: #1967D2;\n",
              "      height: 32px;\n",
              "      padding: 0 0 0 0;\n",
              "      width: 32px;\n",
              "    }\n",
              "\n",
              "    .colab-df-convert:hover {\n",
              "      background-color: #E2EBFA;\n",
              "      box-shadow: 0px 1px 2px rgba(60, 64, 67, 0.3), 0px 1px 3px 1px rgba(60, 64, 67, 0.15);\n",
              "      fill: #174EA6;\n",
              "    }\n",
              "\n",
              "    [theme=dark] .colab-df-convert {\n",
              "      background-color: #3B4455;\n",
              "      fill: #D2E3FC;\n",
              "    }\n",
              "\n",
              "    [theme=dark] .colab-df-convert:hover {\n",
              "      background-color: #434B5C;\n",
              "      box-shadow: 0px 1px 3px 1px rgba(0, 0, 0, 0.15);\n",
              "      filter: drop-shadow(0px 1px 2px rgba(0, 0, 0, 0.3));\n",
              "      fill: #FFFFFF;\n",
              "    }\n",
              "  </style>\n",
              "\n",
              "      <script>\n",
              "        const buttonEl =\n",
              "          document.querySelector('#df-a8d89c5e-b69a-4eb5-b5c9-11ab739f1638 button.colab-df-convert');\n",
              "        buttonEl.style.display =\n",
              "          google.colab.kernel.accessAllowed ? 'block' : 'none';\n",
              "\n",
              "        async function convertToInteractive(key) {\n",
              "          const element = document.querySelector('#df-a8d89c5e-b69a-4eb5-b5c9-11ab739f1638');\n",
              "          const dataTable =\n",
              "            await google.colab.kernel.invokeFunction('convertToInteractive',\n",
              "                                                     [key], {});\n",
              "          if (!dataTable) return;\n",
              "\n",
              "          const docLinkHtml = 'Like what you see? Visit the ' +\n",
              "            '<a target=\"_blank\" href=https://colab.research.google.com/notebooks/data_table.ipynb>data table notebook</a>'\n",
              "            + ' to learn more about interactive tables.';\n",
              "          element.innerHTML = '';\n",
              "          dataTable['output_type'] = 'display_data';\n",
              "          await google.colab.output.renderOutput(dataTable, element);\n",
              "          const docLink = document.createElement('div');\n",
              "          docLink.innerHTML = docLinkHtml;\n",
              "          element.appendChild(docLink);\n",
              "        }\n",
              "      </script>\n",
              "    </div>\n",
              "  </div>\n",
              "  "
            ]
          },
          "metadata": {},
          "execution_count": 636
        }
      ],
      "source": [
        "# SOLDADORA\n",
        "# Agrega a la tabla la columna de Cantidad_Piezas_T3_Totales \n",
        "tabla_nueva2['Cantidad_Piezas_T3_Totales'] = cantidadDePiezasHechas3\n",
        "tabla_nueva2.head(1)"
      ]
    },
    {
      "cell_type": "code",
      "execution_count": null,
      "metadata": {
        "colab": {
          "base_uri": "https://localhost:8080/",
          "height": 98
        },
        "id": "EzlbHMGki0r5",
        "outputId": "b8bbd501-025b-489b-821d-7d6e9ddc708d"
      },
      "outputs": [
        {
          "output_type": "stream",
          "name": "stdout",
          "text": [
            "La suma: 183.0\n"
          ]
        },
        {
          "output_type": "execute_result",
          "data": {
            "text/plain": [
              "  S1 S2 S3 Piezas_Soldadora        Fecha_y_Hora  Diferencia_F_H  \\\n",
              "0  0  0  2            12981 2022-11-14 06:57:27 0 days 00:05:00   \n",
              "\n",
              "   Cantidad_Piezas_T1_Totales  Cantidad_Piezas_T2_Totales  \\\n",
              "0                         131                           0   \n",
              "\n",
              "   Cantidad_Piezas_T3_Totales  Contador_Piezas_Soldadora  \n",
              "0                           0                        NaN  "
            ],
            "text/html": [
              "\n",
              "  <div id=\"df-f58eabcd-2b56-44bf-920a-b78abff84075\">\n",
              "    <div class=\"colab-df-container\">\n",
              "      <div>\n",
              "<style scoped>\n",
              "    .dataframe tbody tr th:only-of-type {\n",
              "        vertical-align: middle;\n",
              "    }\n",
              "\n",
              "    .dataframe tbody tr th {\n",
              "        vertical-align: top;\n",
              "    }\n",
              "\n",
              "    .dataframe thead th {\n",
              "        text-align: right;\n",
              "    }\n",
              "</style>\n",
              "<table border=\"1\" class=\"dataframe\">\n",
              "  <thead>\n",
              "    <tr style=\"text-align: right;\">\n",
              "      <th></th>\n",
              "      <th>S1</th>\n",
              "      <th>S2</th>\n",
              "      <th>S3</th>\n",
              "      <th>Piezas_Soldadora</th>\n",
              "      <th>Fecha_y_Hora</th>\n",
              "      <th>Diferencia_F_H</th>\n",
              "      <th>Cantidad_Piezas_T1_Totales</th>\n",
              "      <th>Cantidad_Piezas_T2_Totales</th>\n",
              "      <th>Cantidad_Piezas_T3_Totales</th>\n",
              "      <th>Contador_Piezas_Soldadora</th>\n",
              "    </tr>\n",
              "  </thead>\n",
              "  <tbody>\n",
              "    <tr>\n",
              "      <th>0</th>\n",
              "      <td>0</td>\n",
              "      <td>0</td>\n",
              "      <td>2</td>\n",
              "      <td>12981</td>\n",
              "      <td>2022-11-14 06:57:27</td>\n",
              "      <td>0 days 00:05:00</td>\n",
              "      <td>131</td>\n",
              "      <td>0</td>\n",
              "      <td>0</td>\n",
              "      <td>NaN</td>\n",
              "    </tr>\n",
              "  </tbody>\n",
              "</table>\n",
              "</div>\n",
              "      <button class=\"colab-df-convert\" onclick=\"convertToInteractive('df-f58eabcd-2b56-44bf-920a-b78abff84075')\"\n",
              "              title=\"Convert this dataframe to an interactive table.\"\n",
              "              style=\"display:none;\">\n",
              "        \n",
              "  <svg xmlns=\"http://www.w3.org/2000/svg\" height=\"24px\"viewBox=\"0 0 24 24\"\n",
              "       width=\"24px\">\n",
              "    <path d=\"M0 0h24v24H0V0z\" fill=\"none\"/>\n",
              "    <path d=\"M18.56 5.44l.94 2.06.94-2.06 2.06-.94-2.06-.94-.94-2.06-.94 2.06-2.06.94zm-11 1L8.5 8.5l.94-2.06 2.06-.94-2.06-.94L8.5 2.5l-.94 2.06-2.06.94zm10 10l.94 2.06.94-2.06 2.06-.94-2.06-.94-.94-2.06-.94 2.06-2.06.94z\"/><path d=\"M17.41 7.96l-1.37-1.37c-.4-.4-.92-.59-1.43-.59-.52 0-1.04.2-1.43.59L10.3 9.45l-7.72 7.72c-.78.78-.78 2.05 0 2.83L4 21.41c.39.39.9.59 1.41.59.51 0 1.02-.2 1.41-.59l7.78-7.78 2.81-2.81c.8-.78.8-2.07 0-2.86zM5.41 20L4 18.59l7.72-7.72 1.47 1.35L5.41 20z\"/>\n",
              "  </svg>\n",
              "      </button>\n",
              "      \n",
              "  <style>\n",
              "    .colab-df-container {\n",
              "      display:flex;\n",
              "      flex-wrap:wrap;\n",
              "      gap: 12px;\n",
              "    }\n",
              "\n",
              "    .colab-df-convert {\n",
              "      background-color: #E8F0FE;\n",
              "      border: none;\n",
              "      border-radius: 50%;\n",
              "      cursor: pointer;\n",
              "      display: none;\n",
              "      fill: #1967D2;\n",
              "      height: 32px;\n",
              "      padding: 0 0 0 0;\n",
              "      width: 32px;\n",
              "    }\n",
              "\n",
              "    .colab-df-convert:hover {\n",
              "      background-color: #E2EBFA;\n",
              "      box-shadow: 0px 1px 2px rgba(60, 64, 67, 0.3), 0px 1px 3px 1px rgba(60, 64, 67, 0.15);\n",
              "      fill: #174EA6;\n",
              "    }\n",
              "\n",
              "    [theme=dark] .colab-df-convert {\n",
              "      background-color: #3B4455;\n",
              "      fill: #D2E3FC;\n",
              "    }\n",
              "\n",
              "    [theme=dark] .colab-df-convert:hover {\n",
              "      background-color: #434B5C;\n",
              "      box-shadow: 0px 1px 3px 1px rgba(0, 0, 0, 0.15);\n",
              "      filter: drop-shadow(0px 1px 2px rgba(0, 0, 0, 0.3));\n",
              "      fill: #FFFFFF;\n",
              "    }\n",
              "  </style>\n",
              "\n",
              "      <script>\n",
              "        const buttonEl =\n",
              "          document.querySelector('#df-f58eabcd-2b56-44bf-920a-b78abff84075 button.colab-df-convert');\n",
              "        buttonEl.style.display =\n",
              "          google.colab.kernel.accessAllowed ? 'block' : 'none';\n",
              "\n",
              "        async function convertToInteractive(key) {\n",
              "          const element = document.querySelector('#df-f58eabcd-2b56-44bf-920a-b78abff84075');\n",
              "          const dataTable =\n",
              "            await google.colab.kernel.invokeFunction('convertToInteractive',\n",
              "                                                     [key], {});\n",
              "          if (!dataTable) return;\n",
              "\n",
              "          const docLinkHtml = 'Like what you see? Visit the ' +\n",
              "            '<a target=\"_blank\" href=https://colab.research.google.com/notebooks/data_table.ipynb>data table notebook</a>'\n",
              "            + ' to learn more about interactive tables.';\n",
              "          element.innerHTML = '';\n",
              "          dataTable['output_type'] = 'display_data';\n",
              "          await google.colab.output.renderOutput(dataTable, element);\n",
              "          const docLink = document.createElement('div');\n",
              "          docLink.innerHTML = docLinkHtml;\n",
              "          element.appendChild(docLink);\n",
              "        }\n",
              "      </script>\n",
              "    </div>\n",
              "  </div>\n",
              "  "
            ]
          },
          "metadata": {},
          "execution_count": 637
        }
      ],
      "source": [
        "#CANTIDAD DE PIEZAS SOLDADORA (EL ACTUAL MENOS EL ANTERIOR)\n",
        "piezas_soldora1 = tabla_nueva2[\"Piezas_Soldadora\"].astype(int)\n",
        "tabla_nueva2['Contador_Piezas_Soldadora']=piezas_soldora1.diff(1)\n",
        "print(\"La suma:\",tabla_nueva2.loc[tabla_nueva2[\"Contador_Piezas_Soldadora\"]>0,\"Contador_Piezas_Soldadora\"].sum())\n",
        "tabla_nueva2.head(1)"
      ]
    },
    {
      "cell_type": "code",
      "execution_count": null,
      "metadata": {
        "id": "s98XTDb0bd5z"
      },
      "outputs": [],
      "source": [
        "#Genera una nueva columna Tiempo_STD_x_pieza que es el tiempo estandar (173 segundos). ESTANDAR SOLADADORA\n",
        "for i in range(len(tabla_nueva2)):\n",
        "  Tiempo_STD_x_pieza = (\"173\")"
      ]
    },
    {
      "cell_type": "code",
      "execution_count": null,
      "metadata": {
        "id": "Tt_RLPOubPJd"
      },
      "outputs": [],
      "source": [
        "#Agrega al DataFrame la columna Tiempo_STD_x_pieza que es tiempo estandar y son 173 segundos por pieza\n",
        "tabla_nueva2['Tiempo_STD_x_pieza'] = Tiempo_STD_x_pieza\n",
        "#tabla_nueva2.head(10)"
      ]
    },
    {
      "cell_type": "code",
      "execution_count": null,
      "metadata": {
        "id": "0wx-l2iohFqO"
      },
      "outputs": [],
      "source": [
        "#Recorre sobre Fecha_y_Hora y resta el siguiente menos el anterior COPIAAAAAAA\n",
        "for i in range(len(tabla_nueva2['Fecha_y_Hora'])-1):\n",
        "  diferencia = tabla_nueva2['Fecha_y_Hora'][i+1] - tabla_nueva2['Fecha_y_Hora'][i]\n",
        "  segundos = diferencia.total_seconds()\n",
        "  #print(segundos)"
      ]
    },
    {
      "cell_type": "code",
      "execution_count": null,
      "metadata": {
        "id": "j0rIFP98v62G"
      },
      "outputs": [],
      "source": [
        "#Genera una nueva columna Tiempo_Produccion que es son 300 segundos\n",
        "for i in range(len(tabla_nueva2)):\n",
        "  Tiempo_Produccion_Segundos = (segundos)"
      ]
    },
    {
      "cell_type": "code",
      "execution_count": null,
      "metadata": {
        "id": "7FaSRTijwFEA"
      },
      "outputs": [],
      "source": [
        "#Agrega al DataFrame la columna Tiempo_Produccion que son 300 segundos\n",
        "tabla_nueva2['Tiempo_Produccion'] = Tiempo_Produccion_Segundos\n",
        "#tabla_nueva2.head(10)"
      ]
    },
    {
      "cell_type": "code",
      "execution_count": null,
      "metadata": {
        "id": "1IZQEyq2BqmU"
      },
      "outputs": [],
      "source": [
        "#Remplazar los NaN por ceros SOLDADORA\n",
        "tabla_nueva2['Contador_Piezas_Soldadora'] = tabla_nueva2['Contador_Piezas_Soldadora'].replace(np.nan, 0)"
      ]
    },
    {
      "cell_type": "code",
      "execution_count": null,
      "metadata": {
        "id": "cRfxv4iGNNNQ"
      },
      "outputs": [],
      "source": [
        "#Convierte los float de SOLDADORA a int del Contador_Piezas_Soldadora\n",
        "Contador_Piezas_Sold =  tabla_nueva2[\"Contador_Piezas_Soldadora\"].astype(int) #convierte a int \n",
        "Tiempo_Pro =  tabla_nueva2[\"Tiempo_Produccion\"].astype(int) #convierte a int "
      ]
    },
    {
      "cell_type": "code",
      "source": [
        "# ---- ACA TERMINA LA PRIMERA PARTE DE LIMPIEZA ----"
      ],
      "metadata": {
        "id": "LtiRwxrBkd-l"
      },
      "execution_count": null,
      "outputs": []
    },
    {
      "cell_type": "code",
      "source": [
        "tabla_nueva2.head(1)"
      ],
      "metadata": {
        "colab": {
          "base_uri": "https://localhost:8080/",
          "height": 162
        },
        "id": "OAf9yhyRMZ6N",
        "outputId": "d4d11d71-6d96-49fe-efd2-0bd91d8b447b"
      },
      "execution_count": null,
      "outputs": [
        {
          "output_type": "execute_result",
          "data": {
            "text/plain": [
              "  S1 S2 S3 Piezas_Soldadora        Fecha_y_Hora  Diferencia_F_H  \\\n",
              "0  0  0  2            12981 2022-11-14 06:57:27 0 days 00:05:00   \n",
              "\n",
              "   Cantidad_Piezas_T1_Totales  Cantidad_Piezas_T2_Totales  \\\n",
              "0                         131                           0   \n",
              "\n",
              "   Cantidad_Piezas_T3_Totales  Contador_Piezas_Soldadora Tiempo_STD_x_pieza  \\\n",
              "0                           0                        0.0                173   \n",
              "\n",
              "   Tiempo_Produccion  \n",
              "0              300.0  "
            ],
            "text/html": [
              "\n",
              "  <div id=\"df-dc82f2c4-cd80-4683-bbe8-40782bfc1ea1\">\n",
              "    <div class=\"colab-df-container\">\n",
              "      <div>\n",
              "<style scoped>\n",
              "    .dataframe tbody tr th:only-of-type {\n",
              "        vertical-align: middle;\n",
              "    }\n",
              "\n",
              "    .dataframe tbody tr th {\n",
              "        vertical-align: top;\n",
              "    }\n",
              "\n",
              "    .dataframe thead th {\n",
              "        text-align: right;\n",
              "    }\n",
              "</style>\n",
              "<table border=\"1\" class=\"dataframe\">\n",
              "  <thead>\n",
              "    <tr style=\"text-align: right;\">\n",
              "      <th></th>\n",
              "      <th>S1</th>\n",
              "      <th>S2</th>\n",
              "      <th>S3</th>\n",
              "      <th>Piezas_Soldadora</th>\n",
              "      <th>Fecha_y_Hora</th>\n",
              "      <th>Diferencia_F_H</th>\n",
              "      <th>Cantidad_Piezas_T1_Totales</th>\n",
              "      <th>Cantidad_Piezas_T2_Totales</th>\n",
              "      <th>Cantidad_Piezas_T3_Totales</th>\n",
              "      <th>Contador_Piezas_Soldadora</th>\n",
              "      <th>Tiempo_STD_x_pieza</th>\n",
              "      <th>Tiempo_Produccion</th>\n",
              "    </tr>\n",
              "  </thead>\n",
              "  <tbody>\n",
              "    <tr>\n",
              "      <th>0</th>\n",
              "      <td>0</td>\n",
              "      <td>0</td>\n",
              "      <td>2</td>\n",
              "      <td>12981</td>\n",
              "      <td>2022-11-14 06:57:27</td>\n",
              "      <td>0 days 00:05:00</td>\n",
              "      <td>131</td>\n",
              "      <td>0</td>\n",
              "      <td>0</td>\n",
              "      <td>0.0</td>\n",
              "      <td>173</td>\n",
              "      <td>300.0</td>\n",
              "    </tr>\n",
              "  </tbody>\n",
              "</table>\n",
              "</div>\n",
              "      <button class=\"colab-df-convert\" onclick=\"convertToInteractive('df-dc82f2c4-cd80-4683-bbe8-40782bfc1ea1')\"\n",
              "              title=\"Convert this dataframe to an interactive table.\"\n",
              "              style=\"display:none;\">\n",
              "        \n",
              "  <svg xmlns=\"http://www.w3.org/2000/svg\" height=\"24px\"viewBox=\"0 0 24 24\"\n",
              "       width=\"24px\">\n",
              "    <path d=\"M0 0h24v24H0V0z\" fill=\"none\"/>\n",
              "    <path d=\"M18.56 5.44l.94 2.06.94-2.06 2.06-.94-2.06-.94-.94-2.06-.94 2.06-2.06.94zm-11 1L8.5 8.5l.94-2.06 2.06-.94-2.06-.94L8.5 2.5l-.94 2.06-2.06.94zm10 10l.94 2.06.94-2.06 2.06-.94-2.06-.94-.94-2.06-.94 2.06-2.06.94z\"/><path d=\"M17.41 7.96l-1.37-1.37c-.4-.4-.92-.59-1.43-.59-.52 0-1.04.2-1.43.59L10.3 9.45l-7.72 7.72c-.78.78-.78 2.05 0 2.83L4 21.41c.39.39.9.59 1.41.59.51 0 1.02-.2 1.41-.59l7.78-7.78 2.81-2.81c.8-.78.8-2.07 0-2.86zM5.41 20L4 18.59l7.72-7.72 1.47 1.35L5.41 20z\"/>\n",
              "  </svg>\n",
              "      </button>\n",
              "      \n",
              "  <style>\n",
              "    .colab-df-container {\n",
              "      display:flex;\n",
              "      flex-wrap:wrap;\n",
              "      gap: 12px;\n",
              "    }\n",
              "\n",
              "    .colab-df-convert {\n",
              "      background-color: #E8F0FE;\n",
              "      border: none;\n",
              "      border-radius: 50%;\n",
              "      cursor: pointer;\n",
              "      display: none;\n",
              "      fill: #1967D2;\n",
              "      height: 32px;\n",
              "      padding: 0 0 0 0;\n",
              "      width: 32px;\n",
              "    }\n",
              "\n",
              "    .colab-df-convert:hover {\n",
              "      background-color: #E2EBFA;\n",
              "      box-shadow: 0px 1px 2px rgba(60, 64, 67, 0.3), 0px 1px 3px 1px rgba(60, 64, 67, 0.15);\n",
              "      fill: #174EA6;\n",
              "    }\n",
              "\n",
              "    [theme=dark] .colab-df-convert {\n",
              "      background-color: #3B4455;\n",
              "      fill: #D2E3FC;\n",
              "    }\n",
              "\n",
              "    [theme=dark] .colab-df-convert:hover {\n",
              "      background-color: #434B5C;\n",
              "      box-shadow: 0px 1px 3px 1px rgba(0, 0, 0, 0.15);\n",
              "      filter: drop-shadow(0px 1px 2px rgba(0, 0, 0, 0.3));\n",
              "      fill: #FFFFFF;\n",
              "    }\n",
              "  </style>\n",
              "\n",
              "      <script>\n",
              "        const buttonEl =\n",
              "          document.querySelector('#df-dc82f2c4-cd80-4683-bbe8-40782bfc1ea1 button.colab-df-convert');\n",
              "        buttonEl.style.display =\n",
              "          google.colab.kernel.accessAllowed ? 'block' : 'none';\n",
              "\n",
              "        async function convertToInteractive(key) {\n",
              "          const element = document.querySelector('#df-dc82f2c4-cd80-4683-bbe8-40782bfc1ea1');\n",
              "          const dataTable =\n",
              "            await google.colab.kernel.invokeFunction('convertToInteractive',\n",
              "                                                     [key], {});\n",
              "          if (!dataTable) return;\n",
              "\n",
              "          const docLinkHtml = 'Like what you see? Visit the ' +\n",
              "            '<a target=\"_blank\" href=https://colab.research.google.com/notebooks/data_table.ipynb>data table notebook</a>'\n",
              "            + ' to learn more about interactive tables.';\n",
              "          element.innerHTML = '';\n",
              "          dataTable['output_type'] = 'display_data';\n",
              "          await google.colab.output.renderOutput(dataTable, element);\n",
              "          const docLink = document.createElement('div');\n",
              "          docLink.innerHTML = docLinkHtml;\n",
              "          element.appendChild(docLink);\n",
              "        }\n",
              "      </script>\n",
              "    </div>\n",
              "  </div>\n",
              "  "
            ]
          },
          "metadata": {},
          "execution_count": 646
        }
      ]
    },
    {
      "cell_type": "code",
      "source": [
        "#tabla_nueva2.head(15)"
      ],
      "metadata": {
        "id": "Tono4Qc7OE6d"
      },
      "execution_count": null,
      "outputs": []
    },
    {
      "cell_type": "code",
      "execution_count": null,
      "metadata": {
        "id": "CHQNRTYWUFj9"
      },
      "outputs": [],
      "source": [
        "#Se fija si Contador_Piezas_Soldadora es igual a cero o no, si es cero quiere decir que es igual al Tiempo_Produccion (300 seg) y sino es cero hace Contador_Piezas_Soldadora por 173 seg\n",
        "Parada_final = []\n",
        "for i in Contador_Piezas_Sold:\n",
        "  if i == 0:\n",
        "    igual_cero = (i+segundos)\n",
        "    Parada_final.append(igual_cero)\n",
        "  else: \n",
        "    diferente_cero = (i*173)\n",
        "    Parada_final.append(diferente_cero)\n",
        "#Parada_final"
      ]
    },
    {
      "cell_type": "code",
      "execution_count": null,
      "metadata": {
        "id": "fdlbe_GLZfrN"
      },
      "outputs": [],
      "source": [
        "#Agrega al DataFrame de tabla el DataFrame de diferencia de Fecha y Hora, agrega una columna\n",
        "tabla_nueva2['Parada_final'] = Parada_final\n",
        "#tabla_nueva2"
      ]
    },
    {
      "cell_type": "code",
      "execution_count": null,
      "metadata": {
        "id": "Yml6exopQJ5v"
      },
      "outputs": [],
      "source": [
        "#Hace la tabla Parada_estado y remplaza los ceros por 300\n",
        "Contador_Piezas_Sold =  tabla_nueva2[\"Contador_Piezas_Soldadora\"].astype(int) #convierte a int \n",
        "Tiempo_Pro =  tabla_nueva2[\"Tiempo_Produccion\"].astype(int) #convierte a int \n",
        "parada_Final = tabla_nueva2[\"Parada_final\"].astype(int) #convierte a int \n",
        "\n",
        "for i in tabla_nueva2[\"Tiempo_Produccion\"]:\n",
        "  Parada_final_real = (Tiempo_Pro - parada_Final)\n",
        "  \n",
        "tabla_nueva2[\"Parada_estado\"] = Parada_final_real\n",
        "tabla_nueva2['Parada_estado'] = tabla_nueva2['Parada_estado'].replace(0, segundos)\n",
        "#tabla_nueva2.head(10)"
      ]
    },
    {
      "cell_type": "code",
      "execution_count": null,
      "metadata": {
        "id": "sCRjBQtVcUnV"
      },
      "outputs": [],
      "source": [
        "#Trasnforma Parada_estado a int\n",
        "remplazo_mayor = tabla_nueva2['Parada_estado'].astype(int)\n",
        "#remplazo_mayor"
      ]
    },
    {
      "cell_type": "code",
      "execution_count": null,
      "metadata": {
        "id": "5NTKNbsxyRXj"
      },
      "outputs": [],
      "source": [
        "#Todos los que son menores a -180 los remplaza por -180\n",
        "lista_mayor = []\n",
        "for i in remplazo_mayor:\n",
        "  if i <= -180:\n",
        "    lista_mayor.append(-180)\n",
        "  else: \n",
        "    lista_mayor.append(i)\n",
        "tabla_nueva2[\"lista_mayor\"] = lista_mayor\n",
        "#tabla_nueva2.head(10)"
      ]
    },
    {
      "cell_type": "code",
      "source": [
        "#tabla_nueva2[[\"Fecha_y_Hora\",\"Piezas_Soldadora\",\"Diferencia_F_H\",\"Cantidad_Piezas_T1_Totales\",\t\"Contador_Piezas_Soldadora\",\t\"Tiempo_STD_x_pieza\",\t\"Tiempo_Produccion\",\t\"Parada_final\",\t\"Parada_estado\",\t\"lista_mayor\"]]"
      ],
      "metadata": {
        "id": "P0t4oZDfvtOE"
      },
      "execution_count": null,
      "outputs": []
    },
    {
      "cell_type": "code",
      "execution_count": null,
      "metadata": {
        "id": "WLM4EZlLaGoe"
      },
      "outputs": [],
      "source": [
        "#tabla_nueva2[\"lista_mayor\"].head(5)"
      ]
    },
    {
      "cell_type": "code",
      "source": [
        "#tabla_nueva2[\"Contador_Piezas_Soldadora\"].head(5)"
      ],
      "metadata": {
        "id": "Z6jyYwQvUnyk"
      },
      "execution_count": null,
      "outputs": []
    },
    {
      "cell_type": "code",
      "source": [
        "lista_2 = tabla_nueva2['lista_mayor']"
      ],
      "metadata": {
        "id": "Q1FGnFgTfu04"
      },
      "execution_count": null,
      "outputs": []
    },
    {
      "cell_type": "code",
      "source": [
        "list_1 = tabla_nueva2[\"Contador_Piezas_Soldadora\"]\n",
        "lista_1 = list_1.astype(int)"
      ],
      "metadata": {
        "id": "uEb6T604kbMJ"
      },
      "execution_count": null,
      "outputs": []
    },
    {
      "cell_type": "code",
      "source": [
        "#list_1 = [0,1,0,0,0,0,0,6,2,2,2,1,2,2,1,1,1,1,1,0,0,2,1,2,2]\n",
        "#list_2 = [300,127,300,300,300,300,300,-180,-46,-46,-46,127,-46,-46,127,127,127,127,127,300,300,-46,127,-46,-46]\n",
        "\n",
        "emptyResult = [0] * len(lista_1)\n",
        "data = {\"Contador_Piezas_Soldadora1\": lista_1, \"lista_mayor1\": lista_2, \"Paradas_soldadora\": emptyResult}\n",
        "dz = pd.DataFrame(data)\n",
        "\n",
        "def forPositives(dz, index):\n",
        "    sum = 0\n",
        "    for i in range(index, len(dz)):\n",
        "        # check if the value is negative\n",
        "        if dz.iloc[i,1] < 0:\n",
        "            # if the value is negative, stop iterating\n",
        "            dz.iloc[i-1,2] = sum\n",
        "            index = i\n",
        "            break\n",
        "        else:\n",
        "            # if the value is non-negative, add it to the sum\n",
        "            sum = sum + dz.iloc[i,1]\n",
        "            index = i\n",
        "    return index\n",
        "\n",
        "def forNegatives(dz, index):\n",
        "    sum = 0\n",
        "\n",
        "    for i in range(index, len(dz)):\n",
        "    # check if the value is negative\n",
        "        if sum > 0:\n",
        "            # if the value is positive, stop iterating\n",
        "            dz.iloc[i-1,2] = sum\n",
        "\n",
        "            for j in range(i, len(dz)-1): #QUE CONVIENE PONERLE ESE -1 QUE NO ESTABA O .... --->\n",
        "                if dz.iloc[j,0] == 1 and not dz.iloc[j+1,0] == 0: #ORIGINAL: if dz.iloc[j,0] == 1 and not dz.iloc[j+i,0] == 0: SACARLE A ESTE EL +1 QUE SI ESTABA\n",
        "                    dz.iloc[j,2] = dz.iloc[j,1]\n",
        "                    index = j\n",
        "                elif dz.iloc[j,0] == 1 and dz.iloc[j+1,0] == 0:\n",
        "                    sum = 0\n",
        "                    for k in range(j, len(dz)):\n",
        "                        if k == j:\n",
        "                            sum = sum + dz.iloc[k,1]\n",
        "                            index = k\n",
        "                            j = i = k\n",
        "                        elif dz.iloc[k,1]<0 or dz.iloc[k,0]>=1:\n",
        "                            # what the hell\n",
        "                            dz.iloc[k-1,2] = sum\n",
        "                            index = k\n",
        "                            j = i = k\n",
        "                            break\n",
        "                        else:\n",
        "                            sum = sum + dz.iloc[k,1]\n",
        "                            index = k\n",
        "                            j = k = i\n",
        "\n",
        "                else:\n",
        "                    index = j\n",
        "                    break\n",
        "            index = i\n",
        "            break\n",
        "        else:\n",
        "            # if the value is negative, add it to the sum\n",
        "            sum = sum + dz.iloc[i,1]\n",
        "            index = i\n",
        "    return index\n",
        "\n",
        "checkWhile = True\n",
        "index = 0\n",
        "while(True):\n",
        "    if index == len(dz) - 1:\n",
        "        break\n",
        "    elif dz.iloc[index, 1] >= 0:\n",
        "        index = forPositives(dz, index)\n",
        "    elif dz.iloc[index, 1] < 0:\n",
        "        index = forNegatives(dz, index)\n",
        "    \n",
        "#print(dz)"
      ],
      "metadata": {
        "id": "ii2-re9UjaN8"
      },
      "execution_count": null,
      "outputs": []
    },
    {
      "cell_type": "code",
      "source": [
        "#dz.head(5)"
      ],
      "metadata": {
        "id": "OolJ6ZH2oopX"
      },
      "execution_count": null,
      "outputs": []
    },
    {
      "cell_type": "code",
      "source": [
        "#Une el dataFrame tabla_nueva2 con dataFrame dz\n",
        "TABLA = pd.concat([tabla_nueva2, dz], axis=1)\n",
        "#TABLA.head(10)"
      ],
      "metadata": {
        "id": "bJloPtG9qnkp"
      },
      "execution_count": null,
      "outputs": []
    },
    {
      "cell_type": "code",
      "source": [
        "#Elimina 'Contador_Piezas_Soldadora', 'lista_mayor','PBZ1','PBZ1.1','PBZ1.1.1' de la tabla\n",
        "TABLA2 = TABLA.drop(['Contador_Piezas_Soldadora', 'lista_mayor'], axis=1)\n",
        "#TABLA2.head(10)"
      ],
      "metadata": {
        "id": "7rHjDifcuXxW"
      },
      "execution_count": null,
      "outputs": []
    },
    {
      "cell_type": "code",
      "source": [
        "#Para que muestre solo las columnas que nos interesa \n",
        "TABLA_Soldadora = TABLA2[['Fecha_y_Hora','Piezas_Soldadora', 'Cantidad_Piezas_T1_Totales', 'Cantidad_Piezas_T2_Totales', 'Cantidad_Piezas_T3_Totales', 'Tiempo_STD_x_pieza', 'Tiempo_Produccion', 'Parada_estado','Contador_Piezas_Soldadora1','lista_mayor1', 'Paradas_soldadora']]"
      ],
      "metadata": {
        "id": "uezlu_epIDR-"
      },
      "execution_count": null,
      "outputs": []
    },
    {
      "cell_type": "code",
      "source": [
        "#TABLA_Soldadora"
      ],
      "metadata": {
        "id": "a-FcZ_ZXV_vp"
      },
      "execution_count": null,
      "outputs": []
    },
    {
      "cell_type": "code",
      "source": [
        "# Columna de la suma de todas las paradas que sean paradas\n",
        "suma = 0\n",
        "lista_paradas_totales = []\n",
        "for i in TABLA_Soldadora['Paradas_soldadora']:\n",
        "  suma += i\n",
        "  lista_paradas_totales.append(suma)\n",
        "  suma_paradas = lista_paradas_totales[-1] \n",
        "#suma_paradas"
      ],
      "metadata": {
        "id": "m2enHK69W9Gc"
      },
      "execution_count": null,
      "outputs": []
    },
    {
      "cell_type": "code",
      "source": [
        "# Columna de la suma de todas las paradas que sean paradas\n",
        "# Agrega a la tabla la columna de suma_paradas \n",
        "TABLA_Soldadora['Paradas_Totales'] = suma_paradas\n",
        "TABLA_Soldadora.head(5)"
      ],
      "metadata": {
        "id": "WMiZseGhYQQ1",
        "colab": {
          "base_uri": "https://localhost:8080/",
          "height": 357
        },
        "outputId": "d6b023fa-7d0f-4230-a3c7-3e22ebae5aae"
      },
      "execution_count": null,
      "outputs": [
        {
          "output_type": "execute_result",
          "data": {
            "text/plain": [
              "         Fecha_y_Hora Piezas_Soldadora  Cantidad_Piezas_T1_Totales  \\\n",
              "0 2022-11-14 06:57:27            12981                         131   \n",
              "1 2022-11-14 07:02:27            12981                         131   \n",
              "2 2022-11-14 07:07:27            12981                         131   \n",
              "3 2022-11-14 07:12:27            12981                         131   \n",
              "4 2022-11-14 07:17:27            12981                         131   \n",
              "\n",
              "   Cantidad_Piezas_T2_Totales  Cantidad_Piezas_T3_Totales Tiempo_STD_x_pieza  \\\n",
              "0                           0                           0                173   \n",
              "1                           0                           0                173   \n",
              "2                           0                           0                173   \n",
              "3                           0                           0                173   \n",
              "4                           0                           0                173   \n",
              "\n",
              "   Tiempo_Produccion  Parada_estado  Contador_Piezas_Soldadora1  lista_mayor1  \\\n",
              "0              300.0            300                           0           300   \n",
              "1              300.0            300                           0           300   \n",
              "2              300.0            300                           0           300   \n",
              "3              300.0            300                           0           300   \n",
              "4              300.0            300                           0           300   \n",
              "\n",
              "   Paradas_soldadora  Paradas_Totales  \n",
              "0                  0            65704  \n",
              "1                  0            65704  \n",
              "2                  0            65704  \n",
              "3                  0            65704  \n",
              "4               1500            65704  "
            ],
            "text/html": [
              "\n",
              "  <div id=\"df-49d521f4-6333-45c8-99f0-dc4548f0387a\">\n",
              "    <div class=\"colab-df-container\">\n",
              "      <div>\n",
              "<style scoped>\n",
              "    .dataframe tbody tr th:only-of-type {\n",
              "        vertical-align: middle;\n",
              "    }\n",
              "\n",
              "    .dataframe tbody tr th {\n",
              "        vertical-align: top;\n",
              "    }\n",
              "\n",
              "    .dataframe thead th {\n",
              "        text-align: right;\n",
              "    }\n",
              "</style>\n",
              "<table border=\"1\" class=\"dataframe\">\n",
              "  <thead>\n",
              "    <tr style=\"text-align: right;\">\n",
              "      <th></th>\n",
              "      <th>Fecha_y_Hora</th>\n",
              "      <th>Piezas_Soldadora</th>\n",
              "      <th>Cantidad_Piezas_T1_Totales</th>\n",
              "      <th>Cantidad_Piezas_T2_Totales</th>\n",
              "      <th>Cantidad_Piezas_T3_Totales</th>\n",
              "      <th>Tiempo_STD_x_pieza</th>\n",
              "      <th>Tiempo_Produccion</th>\n",
              "      <th>Parada_estado</th>\n",
              "      <th>Contador_Piezas_Soldadora1</th>\n",
              "      <th>lista_mayor1</th>\n",
              "      <th>Paradas_soldadora</th>\n",
              "      <th>Paradas_Totales</th>\n",
              "    </tr>\n",
              "  </thead>\n",
              "  <tbody>\n",
              "    <tr>\n",
              "      <th>0</th>\n",
              "      <td>2022-11-14 06:57:27</td>\n",
              "      <td>12981</td>\n",
              "      <td>131</td>\n",
              "      <td>0</td>\n",
              "      <td>0</td>\n",
              "      <td>173</td>\n",
              "      <td>300.0</td>\n",
              "      <td>300</td>\n",
              "      <td>0</td>\n",
              "      <td>300</td>\n",
              "      <td>0</td>\n",
              "      <td>65704</td>\n",
              "    </tr>\n",
              "    <tr>\n",
              "      <th>1</th>\n",
              "      <td>2022-11-14 07:02:27</td>\n",
              "      <td>12981</td>\n",
              "      <td>131</td>\n",
              "      <td>0</td>\n",
              "      <td>0</td>\n",
              "      <td>173</td>\n",
              "      <td>300.0</td>\n",
              "      <td>300</td>\n",
              "      <td>0</td>\n",
              "      <td>300</td>\n",
              "      <td>0</td>\n",
              "      <td>65704</td>\n",
              "    </tr>\n",
              "    <tr>\n",
              "      <th>2</th>\n",
              "      <td>2022-11-14 07:07:27</td>\n",
              "      <td>12981</td>\n",
              "      <td>131</td>\n",
              "      <td>0</td>\n",
              "      <td>0</td>\n",
              "      <td>173</td>\n",
              "      <td>300.0</td>\n",
              "      <td>300</td>\n",
              "      <td>0</td>\n",
              "      <td>300</td>\n",
              "      <td>0</td>\n",
              "      <td>65704</td>\n",
              "    </tr>\n",
              "    <tr>\n",
              "      <th>3</th>\n",
              "      <td>2022-11-14 07:12:27</td>\n",
              "      <td>12981</td>\n",
              "      <td>131</td>\n",
              "      <td>0</td>\n",
              "      <td>0</td>\n",
              "      <td>173</td>\n",
              "      <td>300.0</td>\n",
              "      <td>300</td>\n",
              "      <td>0</td>\n",
              "      <td>300</td>\n",
              "      <td>0</td>\n",
              "      <td>65704</td>\n",
              "    </tr>\n",
              "    <tr>\n",
              "      <th>4</th>\n",
              "      <td>2022-11-14 07:17:27</td>\n",
              "      <td>12981</td>\n",
              "      <td>131</td>\n",
              "      <td>0</td>\n",
              "      <td>0</td>\n",
              "      <td>173</td>\n",
              "      <td>300.0</td>\n",
              "      <td>300</td>\n",
              "      <td>0</td>\n",
              "      <td>300</td>\n",
              "      <td>1500</td>\n",
              "      <td>65704</td>\n",
              "    </tr>\n",
              "  </tbody>\n",
              "</table>\n",
              "</div>\n",
              "      <button class=\"colab-df-convert\" onclick=\"convertToInteractive('df-49d521f4-6333-45c8-99f0-dc4548f0387a')\"\n",
              "              title=\"Convert this dataframe to an interactive table.\"\n",
              "              style=\"display:none;\">\n",
              "        \n",
              "  <svg xmlns=\"http://www.w3.org/2000/svg\" height=\"24px\"viewBox=\"0 0 24 24\"\n",
              "       width=\"24px\">\n",
              "    <path d=\"M0 0h24v24H0V0z\" fill=\"none\"/>\n",
              "    <path d=\"M18.56 5.44l.94 2.06.94-2.06 2.06-.94-2.06-.94-.94-2.06-.94 2.06-2.06.94zm-11 1L8.5 8.5l.94-2.06 2.06-.94-2.06-.94L8.5 2.5l-.94 2.06-2.06.94zm10 10l.94 2.06.94-2.06 2.06-.94-2.06-.94-.94-2.06-.94 2.06-2.06.94z\"/><path d=\"M17.41 7.96l-1.37-1.37c-.4-.4-.92-.59-1.43-.59-.52 0-1.04.2-1.43.59L10.3 9.45l-7.72 7.72c-.78.78-.78 2.05 0 2.83L4 21.41c.39.39.9.59 1.41.59.51 0 1.02-.2 1.41-.59l7.78-7.78 2.81-2.81c.8-.78.8-2.07 0-2.86zM5.41 20L4 18.59l7.72-7.72 1.47 1.35L5.41 20z\"/>\n",
              "  </svg>\n",
              "      </button>\n",
              "      \n",
              "  <style>\n",
              "    .colab-df-container {\n",
              "      display:flex;\n",
              "      flex-wrap:wrap;\n",
              "      gap: 12px;\n",
              "    }\n",
              "\n",
              "    .colab-df-convert {\n",
              "      background-color: #E8F0FE;\n",
              "      border: none;\n",
              "      border-radius: 50%;\n",
              "      cursor: pointer;\n",
              "      display: none;\n",
              "      fill: #1967D2;\n",
              "      height: 32px;\n",
              "      padding: 0 0 0 0;\n",
              "      width: 32px;\n",
              "    }\n",
              "\n",
              "    .colab-df-convert:hover {\n",
              "      background-color: #E2EBFA;\n",
              "      box-shadow: 0px 1px 2px rgba(60, 64, 67, 0.3), 0px 1px 3px 1px rgba(60, 64, 67, 0.15);\n",
              "      fill: #174EA6;\n",
              "    }\n",
              "\n",
              "    [theme=dark] .colab-df-convert {\n",
              "      background-color: #3B4455;\n",
              "      fill: #D2E3FC;\n",
              "    }\n",
              "\n",
              "    [theme=dark] .colab-df-convert:hover {\n",
              "      background-color: #434B5C;\n",
              "      box-shadow: 0px 1px 3px 1px rgba(0, 0, 0, 0.15);\n",
              "      filter: drop-shadow(0px 1px 2px rgba(0, 0, 0, 0.3));\n",
              "      fill: #FFFFFF;\n",
              "    }\n",
              "  </style>\n",
              "\n",
              "      <script>\n",
              "        const buttonEl =\n",
              "          document.querySelector('#df-49d521f4-6333-45c8-99f0-dc4548f0387a button.colab-df-convert');\n",
              "        buttonEl.style.display =\n",
              "          google.colab.kernel.accessAllowed ? 'block' : 'none';\n",
              "\n",
              "        async function convertToInteractive(key) {\n",
              "          const element = document.querySelector('#df-49d521f4-6333-45c8-99f0-dc4548f0387a');\n",
              "          const dataTable =\n",
              "            await google.colab.kernel.invokeFunction('convertToInteractive',\n",
              "                                                     [key], {});\n",
              "          if (!dataTable) return;\n",
              "\n",
              "          const docLinkHtml = 'Like what you see? Visit the ' +\n",
              "            '<a target=\"_blank\" href=https://colab.research.google.com/notebooks/data_table.ipynb>data table notebook</a>'\n",
              "            + ' to learn more about interactive tables.';\n",
              "          element.innerHTML = '';\n",
              "          dataTable['output_type'] = 'display_data';\n",
              "          await google.colab.output.renderOutput(dataTable, element);\n",
              "          const docLink = document.createElement('div');\n",
              "          docLink.innerHTML = docLinkHtml;\n",
              "          element.appendChild(docLink);\n",
              "        }\n",
              "      </script>\n",
              "    </div>\n",
              "  </div>\n",
              "  "
            ]
          },
          "metadata": {},
          "execution_count": 665
        }
      ]
    },
    {
      "cell_type": "code",
      "source": [
        "'''#TIEMPO CALENDARIO\n",
        "\n",
        "# Tiempo calendario = hora actual - inicio de turno (8hs) / ultimo dato ejem: 15:10:00 - 08:00:00 \n",
        "oj = TABLA_Soldadora[['Fecha_y_Hora', 'Contador_Piezas_Soldadora1']]\n",
        "ok = pd.DataFrame(oj)\n",
        "\n",
        "# Obtener la última fila con el último valor mayor a cero\n",
        "last_positive_row = ok.loc[ok['Contador_Piezas_Soldadora1'].gt(0)].tail(1)\n",
        "\n",
        "fecha_actual = last_positive_row\n",
        "fecha_actual[['Fecha_y_Hora']]\n",
        "\n",
        "# Definir las horas a restar\n",
        "hora_inicio_turno1 = datetime.strptime('08:00', '%H:%M')\n",
        "hora_2 = fecha_actual[['Fecha_y_Hora']]\n",
        "\n",
        "tiempo = hora_2 - hora_inicio_turno1\n",
        "#tiempo'''"
      ],
      "metadata": {
        "id": "mgB9LTuDg_8p",
        "colab": {
          "base_uri": "https://localhost:8080/",
          "height": 88
        },
        "outputId": "7ddddce4-d29f-4b29-a482-62641120cdee"
      },
      "execution_count": null,
      "outputs": [
        {
          "output_type": "execute_result",
          "data": {
            "text/plain": [
              "\"#TIEMPO CALENDARIO\\n\\n# Tiempo calendario = hora actual - inicio de turno (8hs) / ultimo dato ejem: 15:10:00 - 08:00:00 \\noj = TABLA_Soldadora[['Fecha_y_Hora', 'Contador_Piezas_Soldadora1']]\\nok = pd.DataFrame(oj)\\n\\n# Obtener la última fila con el último valor mayor a cero\\nlast_positive_row = ok.loc[ok['Contador_Piezas_Soldadora1'].gt(0)].tail(1)\\n\\nfecha_actual = last_positive_row\\nfecha_actual[['Fecha_y_Hora']]\\n\\n# Definir las horas a restar\\nhora_inicio_turno1 = datetime.strptime('08:00', '%H:%M')\\nhora_2 = fecha_actual[['Fecha_y_Hora']]\\n\\ntiempo = hora_2 - hora_inicio_turno1\\n#tiempo\""
            ],
            "application/vnd.google.colaboratory.intrinsic+json": {
              "type": "string"
            }
          },
          "metadata": {},
          "execution_count": 666
        }
      ]
    },
    {
      "cell_type": "code",
      "source": [
        "'''#TIEMPO CALENDARIO\n",
        "\n",
        "tiempo['Fecha_y_Hora'] = tiempo['Fecha_y_Hora'].astype(str)\n",
        "# Separar la columna Fecha_y_Hora en dos columnas de fecha y hora\n",
        "tiempo[['Fecha', 'Hora']] = tiempo['Fecha_y_Hora'].str.split(' ', n=1, expand=True)\n",
        "# Eliminar las columnas 'Columna1' y 'Columna2'\n",
        "tiempo = tiempo.drop(['Fecha_y_Hora', 'Fecha'], axis=1)\n",
        "tiempo['Hora'] = tiempo['Hora'].str.replace('days ', '')\n",
        "tiempo'''"
      ],
      "metadata": {
        "colab": {
          "base_uri": "https://localhost:8080/",
          "height": 70
        },
        "id": "6NeCkmSh1TB3",
        "outputId": "86a058f7-2177-49c6-d470-cd9486bd43d3"
      },
      "execution_count": null,
      "outputs": [
        {
          "output_type": "execute_result",
          "data": {
            "text/plain": [
              "\"#TIEMPO CALENDARIO\\n\\ntiempo['Fecha_y_Hora'] = tiempo['Fecha_y_Hora'].astype(str)\\n# Separar la columna Fecha_y_Hora en dos columnas de fecha y hora\\ntiempo[['Fecha', 'Hora']] = tiempo['Fecha_y_Hora'].str.split(' ', n=1, expand=True)\\n# Eliminar las columnas 'Columna1' y 'Columna2'\\ntiempo = tiempo.drop(['Fecha_y_Hora', 'Fecha'], axis=1)\\ntiempo['Hora'] = tiempo['Hora'].str.replace('days ', '')\\ntiempo\""
            ],
            "application/vnd.google.colaboratory.intrinsic+json": {
              "type": "string"
            }
          },
          "metadata": {},
          "execution_count": 667
        }
      ]
    },
    {
      "cell_type": "code",
      "source": [
        "'''# TIEMPO CALENDARIO\n",
        "# TRANSFORMAR MINUTOS A SEGUNDOS \n",
        "\n",
        "from datetime import timedelta\n",
        "# Convertir la columna 'Duration' a un objeto timedelta\n",
        "tiempo['Hora'] = pd.to_timedelta(tiempo['Hora'])\n",
        "# Extraer el número total de segundos de cada valor timedelta y reemplazar la columna 'Duration'\n",
        "tiempo['Hora'] = tiempo['Hora'].dt.total_seconds().astype(int)\n",
        "'''"
      ],
      "metadata": {
        "id": "M8uCZ1K87QV3",
        "colab": {
          "base_uri": "https://localhost:8080/",
          "height": 53
        },
        "outputId": "78849121-ebac-4b87-f67f-11b7144f52cb"
      },
      "execution_count": null,
      "outputs": [
        {
          "output_type": "execute_result",
          "data": {
            "text/plain": [
              "\"# TIEMPO CALENDARIO\\n# TRANSFORMAR MINUTOS A SEGUNDOS \\n\\nfrom datetime import timedelta\\n# Convertir la columna 'Duration' a un objeto timedelta\\ntiempo['Hora'] = pd.to_timedelta(tiempo['Hora'])\\n# Extraer el número total de segundos de cada valor timedelta y reemplazar la columna 'Duration'\\ntiempo['Hora'] = tiempo['Hora'].dt.total_seconds().astype(int)\\n\""
            ],
            "application/vnd.google.colaboratory.intrinsic+json": {
              "type": "string"
            }
          },
          "metadata": {},
          "execution_count": 668
        }
      ]
    },
    {
      "cell_type": "code",
      "source": [
        "#tiempo"
      ],
      "metadata": {
        "id": "WFLwsJew7miK"
      },
      "execution_count": null,
      "outputs": []
    },
    {
      "cell_type": "code",
      "source": [
        "'''# TIEMPO CALENDARIO \n",
        "# Agrega a la tabla la columna de Hora \n",
        "TABLA_Soldadora['Tiempo_calendario_T1'] = tiempo\n",
        "TABLA_Soldadora['Tiempo_calendario_T1'] = TABLA_Soldadora['Tiempo_calendario_T1'].fillna(11861)\n",
        "\n",
        "TABLA_Soldadora.head(5)'''"
      ],
      "metadata": {
        "colab": {
          "base_uri": "https://localhost:8080/",
          "height": 53
        },
        "id": "Ax6m11io9uJN",
        "outputId": "23ea2f65-2c13-471a-d57b-e3a11c3f5603"
      },
      "execution_count": null,
      "outputs": [
        {
          "output_type": "execute_result",
          "data": {
            "text/plain": [
              "\"# TIEMPO CALENDARIO \\n# Agrega a la tabla la columna de Hora \\nTABLA_Soldadora['Tiempo_calendario_T1'] = tiempo\\nTABLA_Soldadora['Tiempo_calendario_T1'] = TABLA_Soldadora['Tiempo_calendario_T1'].fillna(11861)\\n\\nTABLA_Soldadora.head(5)\""
            ],
            "application/vnd.google.colaboratory.intrinsic+json": {
              "type": "string"
            }
          },
          "metadata": {},
          "execution_count": 670
        }
      ]
    },
    {
      "cell_type": "code",
      "source": [
        "TABLA_Soldadora.head(5)"
      ],
      "metadata": {
        "colab": {
          "base_uri": "https://localhost:8080/",
          "height": 357
        },
        "id": "Bmd__wuuTUKa",
        "outputId": "b5152511-dc11-46bc-c9d9-d325d97296ab"
      },
      "execution_count": null,
      "outputs": [
        {
          "output_type": "execute_result",
          "data": {
            "text/plain": [
              "         Fecha_y_Hora Piezas_Soldadora  Cantidad_Piezas_T1_Totales  \\\n",
              "0 2022-11-14 06:57:27            12981                         131   \n",
              "1 2022-11-14 07:02:27            12981                         131   \n",
              "2 2022-11-14 07:07:27            12981                         131   \n",
              "3 2022-11-14 07:12:27            12981                         131   \n",
              "4 2022-11-14 07:17:27            12981                         131   \n",
              "\n",
              "   Cantidad_Piezas_T2_Totales  Cantidad_Piezas_T3_Totales Tiempo_STD_x_pieza  \\\n",
              "0                           0                           0                173   \n",
              "1                           0                           0                173   \n",
              "2                           0                           0                173   \n",
              "3                           0                           0                173   \n",
              "4                           0                           0                173   \n",
              "\n",
              "   Tiempo_Produccion  Parada_estado  Contador_Piezas_Soldadora1  lista_mayor1  \\\n",
              "0              300.0            300                           0           300   \n",
              "1              300.0            300                           0           300   \n",
              "2              300.0            300                           0           300   \n",
              "3              300.0            300                           0           300   \n",
              "4              300.0            300                           0           300   \n",
              "\n",
              "   Paradas_soldadora  Paradas_Totales  \n",
              "0                  0            65704  \n",
              "1                  0            65704  \n",
              "2                  0            65704  \n",
              "3                  0            65704  \n",
              "4               1500            65704  "
            ],
            "text/html": [
              "\n",
              "  <div id=\"df-1117dc91-a0e7-4149-94f1-96a6fb656af9\">\n",
              "    <div class=\"colab-df-container\">\n",
              "      <div>\n",
              "<style scoped>\n",
              "    .dataframe tbody tr th:only-of-type {\n",
              "        vertical-align: middle;\n",
              "    }\n",
              "\n",
              "    .dataframe tbody tr th {\n",
              "        vertical-align: top;\n",
              "    }\n",
              "\n",
              "    .dataframe thead th {\n",
              "        text-align: right;\n",
              "    }\n",
              "</style>\n",
              "<table border=\"1\" class=\"dataframe\">\n",
              "  <thead>\n",
              "    <tr style=\"text-align: right;\">\n",
              "      <th></th>\n",
              "      <th>Fecha_y_Hora</th>\n",
              "      <th>Piezas_Soldadora</th>\n",
              "      <th>Cantidad_Piezas_T1_Totales</th>\n",
              "      <th>Cantidad_Piezas_T2_Totales</th>\n",
              "      <th>Cantidad_Piezas_T3_Totales</th>\n",
              "      <th>Tiempo_STD_x_pieza</th>\n",
              "      <th>Tiempo_Produccion</th>\n",
              "      <th>Parada_estado</th>\n",
              "      <th>Contador_Piezas_Soldadora1</th>\n",
              "      <th>lista_mayor1</th>\n",
              "      <th>Paradas_soldadora</th>\n",
              "      <th>Paradas_Totales</th>\n",
              "    </tr>\n",
              "  </thead>\n",
              "  <tbody>\n",
              "    <tr>\n",
              "      <th>0</th>\n",
              "      <td>2022-11-14 06:57:27</td>\n",
              "      <td>12981</td>\n",
              "      <td>131</td>\n",
              "      <td>0</td>\n",
              "      <td>0</td>\n",
              "      <td>173</td>\n",
              "      <td>300.0</td>\n",
              "      <td>300</td>\n",
              "      <td>0</td>\n",
              "      <td>300</td>\n",
              "      <td>0</td>\n",
              "      <td>65704</td>\n",
              "    </tr>\n",
              "    <tr>\n",
              "      <th>1</th>\n",
              "      <td>2022-11-14 07:02:27</td>\n",
              "      <td>12981</td>\n",
              "      <td>131</td>\n",
              "      <td>0</td>\n",
              "      <td>0</td>\n",
              "      <td>173</td>\n",
              "      <td>300.0</td>\n",
              "      <td>300</td>\n",
              "      <td>0</td>\n",
              "      <td>300</td>\n",
              "      <td>0</td>\n",
              "      <td>65704</td>\n",
              "    </tr>\n",
              "    <tr>\n",
              "      <th>2</th>\n",
              "      <td>2022-11-14 07:07:27</td>\n",
              "      <td>12981</td>\n",
              "      <td>131</td>\n",
              "      <td>0</td>\n",
              "      <td>0</td>\n",
              "      <td>173</td>\n",
              "      <td>300.0</td>\n",
              "      <td>300</td>\n",
              "      <td>0</td>\n",
              "      <td>300</td>\n",
              "      <td>0</td>\n",
              "      <td>65704</td>\n",
              "    </tr>\n",
              "    <tr>\n",
              "      <th>3</th>\n",
              "      <td>2022-11-14 07:12:27</td>\n",
              "      <td>12981</td>\n",
              "      <td>131</td>\n",
              "      <td>0</td>\n",
              "      <td>0</td>\n",
              "      <td>173</td>\n",
              "      <td>300.0</td>\n",
              "      <td>300</td>\n",
              "      <td>0</td>\n",
              "      <td>300</td>\n",
              "      <td>0</td>\n",
              "      <td>65704</td>\n",
              "    </tr>\n",
              "    <tr>\n",
              "      <th>4</th>\n",
              "      <td>2022-11-14 07:17:27</td>\n",
              "      <td>12981</td>\n",
              "      <td>131</td>\n",
              "      <td>0</td>\n",
              "      <td>0</td>\n",
              "      <td>173</td>\n",
              "      <td>300.0</td>\n",
              "      <td>300</td>\n",
              "      <td>0</td>\n",
              "      <td>300</td>\n",
              "      <td>1500</td>\n",
              "      <td>65704</td>\n",
              "    </tr>\n",
              "  </tbody>\n",
              "</table>\n",
              "</div>\n",
              "      <button class=\"colab-df-convert\" onclick=\"convertToInteractive('df-1117dc91-a0e7-4149-94f1-96a6fb656af9')\"\n",
              "              title=\"Convert this dataframe to an interactive table.\"\n",
              "              style=\"display:none;\">\n",
              "        \n",
              "  <svg xmlns=\"http://www.w3.org/2000/svg\" height=\"24px\"viewBox=\"0 0 24 24\"\n",
              "       width=\"24px\">\n",
              "    <path d=\"M0 0h24v24H0V0z\" fill=\"none\"/>\n",
              "    <path d=\"M18.56 5.44l.94 2.06.94-2.06 2.06-.94-2.06-.94-.94-2.06-.94 2.06-2.06.94zm-11 1L8.5 8.5l.94-2.06 2.06-.94-2.06-.94L8.5 2.5l-.94 2.06-2.06.94zm10 10l.94 2.06.94-2.06 2.06-.94-2.06-.94-.94-2.06-.94 2.06-2.06.94z\"/><path d=\"M17.41 7.96l-1.37-1.37c-.4-.4-.92-.59-1.43-.59-.52 0-1.04.2-1.43.59L10.3 9.45l-7.72 7.72c-.78.78-.78 2.05 0 2.83L4 21.41c.39.39.9.59 1.41.59.51 0 1.02-.2 1.41-.59l7.78-7.78 2.81-2.81c.8-.78.8-2.07 0-2.86zM5.41 20L4 18.59l7.72-7.72 1.47 1.35L5.41 20z\"/>\n",
              "  </svg>\n",
              "      </button>\n",
              "      \n",
              "  <style>\n",
              "    .colab-df-container {\n",
              "      display:flex;\n",
              "      flex-wrap:wrap;\n",
              "      gap: 12px;\n",
              "    }\n",
              "\n",
              "    .colab-df-convert {\n",
              "      background-color: #E8F0FE;\n",
              "      border: none;\n",
              "      border-radius: 50%;\n",
              "      cursor: pointer;\n",
              "      display: none;\n",
              "      fill: #1967D2;\n",
              "      height: 32px;\n",
              "      padding: 0 0 0 0;\n",
              "      width: 32px;\n",
              "    }\n",
              "\n",
              "    .colab-df-convert:hover {\n",
              "      background-color: #E2EBFA;\n",
              "      box-shadow: 0px 1px 2px rgba(60, 64, 67, 0.3), 0px 1px 3px 1px rgba(60, 64, 67, 0.15);\n",
              "      fill: #174EA6;\n",
              "    }\n",
              "\n",
              "    [theme=dark] .colab-df-convert {\n",
              "      background-color: #3B4455;\n",
              "      fill: #D2E3FC;\n",
              "    }\n",
              "\n",
              "    [theme=dark] .colab-df-convert:hover {\n",
              "      background-color: #434B5C;\n",
              "      box-shadow: 0px 1px 3px 1px rgba(0, 0, 0, 0.15);\n",
              "      filter: drop-shadow(0px 1px 2px rgba(0, 0, 0, 0.3));\n",
              "      fill: #FFFFFF;\n",
              "    }\n",
              "  </style>\n",
              "\n",
              "      <script>\n",
              "        const buttonEl =\n",
              "          document.querySelector('#df-1117dc91-a0e7-4149-94f1-96a6fb656af9 button.colab-df-convert');\n",
              "        buttonEl.style.display =\n",
              "          google.colab.kernel.accessAllowed ? 'block' : 'none';\n",
              "\n",
              "        async function convertToInteractive(key) {\n",
              "          const element = document.querySelector('#df-1117dc91-a0e7-4149-94f1-96a6fb656af9');\n",
              "          const dataTable =\n",
              "            await google.colab.kernel.invokeFunction('convertToInteractive',\n",
              "                                                     [key], {});\n",
              "          if (!dataTable) return;\n",
              "\n",
              "          const docLinkHtml = 'Like what you see? Visit the ' +\n",
              "            '<a target=\"_blank\" href=https://colab.research.google.com/notebooks/data_table.ipynb>data table notebook</a>'\n",
              "            + ' to learn more about interactive tables.';\n",
              "          element.innerHTML = '';\n",
              "          dataTable['output_type'] = 'display_data';\n",
              "          await google.colab.output.renderOutput(dataTable, element);\n",
              "          const docLink = document.createElement('div');\n",
              "          docLink.innerHTML = docLinkHtml;\n",
              "          element.appendChild(docLink);\n",
              "        }\n",
              "      </script>\n",
              "    </div>\n",
              "  </div>\n",
              "  "
            ]
          },
          "metadata": {},
          "execution_count": 672
        }
      ]
    },
    {
      "cell_type": "code",
      "source": [
        "'''Columna nombre de la parada, si es de la soldadora tiene que ser D0 PARADA(numeroContador) --> columna con la causa\n",
        "- Tiempo calendario = hora actual - inicio de turno (8hs) \n",
        "- Columna de la suma de todas las paradas que sean paradas \n",
        "Tiempo efectivo = tiempo calendario - todo lo que la maquina paro (estructurales + operativas + no operativas)\n",
        "Ut disponible = tiempo disponible / tiempo efectivo\n",
        "\n",
        "\n",
        "Columna tiene que sumar todas las paradas operativas que depende de produccion \n",
        "Columna que sume todas las paradas no operativas\n",
        "Columna de paradas operativas y no operativas\n",
        "Columna con todas las sumas de  todas las paradas estructurales\n",
        "Tiempo posible = tiempo calendario - todas las paradas estructurales\n",
        "Tiempo disponible = tiempo posible - las paradas\n",
        "\n",
        "Utilizacion posible = tiempo posible / tiempo efectivo\n",
        "'''"
      ],
      "metadata": {
        "id": "o2Q5yGOJXiB6",
        "colab": {
          "base_uri": "https://localhost:8080/",
          "height": 105
        },
        "outputId": "13cc1929-a841-4603-94e2-23e81aa814c2"
      },
      "execution_count": null,
      "outputs": [
        {
          "output_type": "execute_result",
          "data": {
            "text/plain": [
              "'Columna nombre de la parada, si es de la soldadora tiene que ser D0 PARADA(numeroContador) --> columna con la causa\\n- Tiempo calendario = hora actual - inicio de turno (8hs) \\n- Columna de la suma de todas las paradas que sean paradas \\nTiempo efectivo = tiempo calendario - todo lo que la maquina paro (estructurales + operativas + no operativas)\\nUt disponible = tiempo disponible / tiempo efectivo\\n\\n\\nColumna tiene que sumar todas las paradas operativas que depende de produccion \\nColumna que sume todas las paradas no operativas\\nColumna de paradas operativas y no operativas\\nColumna con todas las sumas de  todas las paradas estructurales\\nTiempo posible = tiempo calendario - todas las paradas estructurales\\nTiempo disponible = tiempo posible - las paradas\\n\\nUtilizacion posible = tiempo posible / tiempo efectivo\\n'"
            ],
            "application/vnd.google.colaboratory.intrinsic+json": {
              "type": "string"
            }
          },
          "metadata": {},
          "execution_count": 671
        }
      ]
    }
  ],
  "metadata": {
    "colab": {
      "provenance": [],
      "include_colab_link": true
    },
    "kernelspec": {
      "display_name": "Python 3",
      "name": "python3"
    },
    "language_info": {
      "name": "python"
    }
  },
  "nbformat": 4,
  "nbformat_minor": 0
}